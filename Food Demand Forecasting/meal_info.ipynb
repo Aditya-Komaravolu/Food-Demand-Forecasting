{
 "metadata": {
  "language_info": {
   "codemirror_mode": {
    "name": "ipython",
    "version": 3
   },
   "file_extension": ".py",
   "mimetype": "text/x-python",
   "name": "python",
   "nbconvert_exporter": "python",
   "pygments_lexer": "ipython3",
   "version": "3.8.10-final"
  },
  "orig_nbformat": 2,
  "kernelspec": {
   "name": "python381064bitvenv3venv063be229c6c144f3a6308356f210d02b",
   "display_name": "Python 3.8.10 64-bit ('venv3': venv)"
  }
 },
 "nbformat": 4,
 "nbformat_minor": 2,
 "cells": [
  {
   "cell_type": "code",
   "execution_count": 4,
   "metadata": {},
   "outputs": [
    {
     "output_type": "stream",
     "name": "stdout",
     "text": [
      "[PhysicalDevice(name='/physical_device:CPU:0', device_type='CPU')]\n"
     ]
    }
   ],
   "source": [
    "import jupyterthemes as jt\n",
    "import re\n",
    "import numpy as np\n",
    "import pandas as pd\n",
    "import matplotlib.pyplot as plt\n",
    "import seaborn as sns\n",
    "import warnings\n",
    "import sklearn.preprocessing \n",
    "warnings.filterwarnings(\"ignore\")\n",
    "import tensorflow as tf\n",
    "jt.jtplot.style(theme=\"monokai\", context=\"notebook\",grid=True,ticks=True)\n",
    "if tf.config.list_physical_devices(\"GPU\"):\n",
    "    print(\"{}\".format(tf.config.list_physical_devices(\"GPU\")))\n",
    "else:\n",
    "    print(\"{}\".format(tf.config.list_physical_devices(\"CPU\")))"
   ]
  },
  {
   "cell_type": "code",
   "execution_count": 29,
   "metadata": {},
   "outputs": [],
   "source": [
    "meal_info=pd.read_csv(\"meal_info.csv\")  "
   ]
  },
  {
   "cell_type": "code",
   "execution_count": 30,
   "metadata": {},
   "outputs": [],
   "source": [
    "from sklearn.preprocessing import OneHotEncoder\n",
    "from sklearn.compose import ColumnTransformer\n",
    "from sklearn.preprocessing import LabelEncoder\n",
    "\n",
    "\n",
    "le=LabelEncoder()\n",
    "meal_info[\"le_category\"]=le.fit_transform(meal_info[\"category\"])\n",
    "\n",
    "categories=meal_info[\"le_category\"].unique()\n",
    "categories.sort()\n",
    "\n",
    "category_list=list(le.inverse_transform(categories))\n",
    "\n",
    "# column_transformer=ColumnTransformer([('encoder',OneHotEncoder(),[0])],remainder='passthrough')\n",
    "# meal_info=np.array(column_transformer.fit_transform(meal_info))"
   ]
  },
  {
   "cell_type": "code",
   "execution_count": 31,
   "metadata": {},
   "outputs": [
    {
     "output_type": "execute_result",
     "data": {
      "text/plain": [
       "    meal_id      category      cuisine  le_category\n",
       "0      1885     Beverages         Thai            0\n",
       "1      1993     Beverages         Thai            0\n",
       "2      2539     Beverages         Thai            0\n",
       "3      1248     Beverages       Indian            0\n",
       "4      2631     Beverages       Indian            0\n",
       "5      1311        Extras         Thai            3\n",
       "6      1062     Beverages      Italian            0\n",
       "7      1778     Beverages      Italian            0\n",
       "8      1803        Extras         Thai            3\n",
       "9      1198        Extras         Thai            3\n",
       "10     2707     Beverages      Italian            0\n",
       "11     1847          Soup         Thai           12\n",
       "12     1438          Soup         Thai           12\n",
       "13     2494          Soup         Thai           12\n",
       "14     2760  Other Snacks         Thai            5\n",
       "15     2490         Salad      Italian            9\n",
       "16     1109     Rice Bowl       Indian            8\n",
       "17     2290     Rice Bowl       Indian            8\n",
       "18     1525  Other Snacks         Thai            5\n",
       "19     2704  Other Snacks         Thai            5\n",
       "20     1878      Starters         Thai           13\n",
       "21     2640      Starters         Thai           13\n",
       "22     2577      Starters         Thai           13\n",
       "23     1754      Sandwich      Italian           10\n",
       "24     1971      Sandwich      Italian           10\n",
       "25     2306         Pasta      Italian            6\n",
       "26     2139     Beverages       Indian            0\n",
       "27     2826      Sandwich      Italian           10\n",
       "28     2664         Salad      Italian            9\n",
       "29     2569         Salad      Italian            9\n",
       "30     1230     Beverages  Continental            0\n",
       "31     1207     Beverages  Continental            0\n",
       "32     2322     Beverages  Continental            0\n",
       "33     2492        Desert       Indian            2\n",
       "34     1216         Pasta      Italian            6\n",
       "35     1727     Rice Bowl       Indian            8\n",
       "36     1902       Biryani       Indian            1\n",
       "37     1247       Biryani       Indian            1\n",
       "38     2304        Desert       Indian            2\n",
       "39     1543        Desert       Indian            2\n",
       "40     1770       Biryani       Indian            1\n",
       "41     2126         Pasta      Italian            6\n",
       "42     1558         Pizza  Continental            7\n",
       "43     2581         Pizza  Continental            7\n",
       "44     1962         Pizza  Continental            7\n",
       "45     1571          Fish  Continental            4\n",
       "46     2956          Fish  Continental            4\n",
       "47     2104          Fish  Continental            4\n",
       "48     2444       Seafood  Continental           11\n",
       "49     2867       Seafood  Continental           11\n",
       "50     1445       Seafood  Continental           11"
      ],
      "text/html": "<div>\n<style scoped>\n    .dataframe tbody tr th:only-of-type {\n        vertical-align: middle;\n    }\n\n    .dataframe tbody tr th {\n        vertical-align: top;\n    }\n\n    .dataframe thead th {\n        text-align: right;\n    }\n</style>\n<table border=\"1\" class=\"dataframe\">\n  <thead>\n    <tr style=\"text-align: right;\">\n      <th></th>\n      <th>meal_id</th>\n      <th>category</th>\n      <th>cuisine</th>\n      <th>le_category</th>\n    </tr>\n  </thead>\n  <tbody>\n    <tr>\n      <th>0</th>\n      <td>1885</td>\n      <td>Beverages</td>\n      <td>Thai</td>\n      <td>0</td>\n    </tr>\n    <tr>\n      <th>1</th>\n      <td>1993</td>\n      <td>Beverages</td>\n      <td>Thai</td>\n      <td>0</td>\n    </tr>\n    <tr>\n      <th>2</th>\n      <td>2539</td>\n      <td>Beverages</td>\n      <td>Thai</td>\n      <td>0</td>\n    </tr>\n    <tr>\n      <th>3</th>\n      <td>1248</td>\n      <td>Beverages</td>\n      <td>Indian</td>\n      <td>0</td>\n    </tr>\n    <tr>\n      <th>4</th>\n      <td>2631</td>\n      <td>Beverages</td>\n      <td>Indian</td>\n      <td>0</td>\n    </tr>\n    <tr>\n      <th>5</th>\n      <td>1311</td>\n      <td>Extras</td>\n      <td>Thai</td>\n      <td>3</td>\n    </tr>\n    <tr>\n      <th>6</th>\n      <td>1062</td>\n      <td>Beverages</td>\n      <td>Italian</td>\n      <td>0</td>\n    </tr>\n    <tr>\n      <th>7</th>\n      <td>1778</td>\n      <td>Beverages</td>\n      <td>Italian</td>\n      <td>0</td>\n    </tr>\n    <tr>\n      <th>8</th>\n      <td>1803</td>\n      <td>Extras</td>\n      <td>Thai</td>\n      <td>3</td>\n    </tr>\n    <tr>\n      <th>9</th>\n      <td>1198</td>\n      <td>Extras</td>\n      <td>Thai</td>\n      <td>3</td>\n    </tr>\n    <tr>\n      <th>10</th>\n      <td>2707</td>\n      <td>Beverages</td>\n      <td>Italian</td>\n      <td>0</td>\n    </tr>\n    <tr>\n      <th>11</th>\n      <td>1847</td>\n      <td>Soup</td>\n      <td>Thai</td>\n      <td>12</td>\n    </tr>\n    <tr>\n      <th>12</th>\n      <td>1438</td>\n      <td>Soup</td>\n      <td>Thai</td>\n      <td>12</td>\n    </tr>\n    <tr>\n      <th>13</th>\n      <td>2494</td>\n      <td>Soup</td>\n      <td>Thai</td>\n      <td>12</td>\n    </tr>\n    <tr>\n      <th>14</th>\n      <td>2760</td>\n      <td>Other Snacks</td>\n      <td>Thai</td>\n      <td>5</td>\n    </tr>\n    <tr>\n      <th>15</th>\n      <td>2490</td>\n      <td>Salad</td>\n      <td>Italian</td>\n      <td>9</td>\n    </tr>\n    <tr>\n      <th>16</th>\n      <td>1109</td>\n      <td>Rice Bowl</td>\n      <td>Indian</td>\n      <td>8</td>\n    </tr>\n    <tr>\n      <th>17</th>\n      <td>2290</td>\n      <td>Rice Bowl</td>\n      <td>Indian</td>\n      <td>8</td>\n    </tr>\n    <tr>\n      <th>18</th>\n      <td>1525</td>\n      <td>Other Snacks</td>\n      <td>Thai</td>\n      <td>5</td>\n    </tr>\n    <tr>\n      <th>19</th>\n      <td>2704</td>\n      <td>Other Snacks</td>\n      <td>Thai</td>\n      <td>5</td>\n    </tr>\n    <tr>\n      <th>20</th>\n      <td>1878</td>\n      <td>Starters</td>\n      <td>Thai</td>\n      <td>13</td>\n    </tr>\n    <tr>\n      <th>21</th>\n      <td>2640</td>\n      <td>Starters</td>\n      <td>Thai</td>\n      <td>13</td>\n    </tr>\n    <tr>\n      <th>22</th>\n      <td>2577</td>\n      <td>Starters</td>\n      <td>Thai</td>\n      <td>13</td>\n    </tr>\n    <tr>\n      <th>23</th>\n      <td>1754</td>\n      <td>Sandwich</td>\n      <td>Italian</td>\n      <td>10</td>\n    </tr>\n    <tr>\n      <th>24</th>\n      <td>1971</td>\n      <td>Sandwich</td>\n      <td>Italian</td>\n      <td>10</td>\n    </tr>\n    <tr>\n      <th>25</th>\n      <td>2306</td>\n      <td>Pasta</td>\n      <td>Italian</td>\n      <td>6</td>\n    </tr>\n    <tr>\n      <th>26</th>\n      <td>2139</td>\n      <td>Beverages</td>\n      <td>Indian</td>\n      <td>0</td>\n    </tr>\n    <tr>\n      <th>27</th>\n      <td>2826</td>\n      <td>Sandwich</td>\n      <td>Italian</td>\n      <td>10</td>\n    </tr>\n    <tr>\n      <th>28</th>\n      <td>2664</td>\n      <td>Salad</td>\n      <td>Italian</td>\n      <td>9</td>\n    </tr>\n    <tr>\n      <th>29</th>\n      <td>2569</td>\n      <td>Salad</td>\n      <td>Italian</td>\n      <td>9</td>\n    </tr>\n    <tr>\n      <th>30</th>\n      <td>1230</td>\n      <td>Beverages</td>\n      <td>Continental</td>\n      <td>0</td>\n    </tr>\n    <tr>\n      <th>31</th>\n      <td>1207</td>\n      <td>Beverages</td>\n      <td>Continental</td>\n      <td>0</td>\n    </tr>\n    <tr>\n      <th>32</th>\n      <td>2322</td>\n      <td>Beverages</td>\n      <td>Continental</td>\n      <td>0</td>\n    </tr>\n    <tr>\n      <th>33</th>\n      <td>2492</td>\n      <td>Desert</td>\n      <td>Indian</td>\n      <td>2</td>\n    </tr>\n    <tr>\n      <th>34</th>\n      <td>1216</td>\n      <td>Pasta</td>\n      <td>Italian</td>\n      <td>6</td>\n    </tr>\n    <tr>\n      <th>35</th>\n      <td>1727</td>\n      <td>Rice Bowl</td>\n      <td>Indian</td>\n      <td>8</td>\n    </tr>\n    <tr>\n      <th>36</th>\n      <td>1902</td>\n      <td>Biryani</td>\n      <td>Indian</td>\n      <td>1</td>\n    </tr>\n    <tr>\n      <th>37</th>\n      <td>1247</td>\n      <td>Biryani</td>\n      <td>Indian</td>\n      <td>1</td>\n    </tr>\n    <tr>\n      <th>38</th>\n      <td>2304</td>\n      <td>Desert</td>\n      <td>Indian</td>\n      <td>2</td>\n    </tr>\n    <tr>\n      <th>39</th>\n      <td>1543</td>\n      <td>Desert</td>\n      <td>Indian</td>\n      <td>2</td>\n    </tr>\n    <tr>\n      <th>40</th>\n      <td>1770</td>\n      <td>Biryani</td>\n      <td>Indian</td>\n      <td>1</td>\n    </tr>\n    <tr>\n      <th>41</th>\n      <td>2126</td>\n      <td>Pasta</td>\n      <td>Italian</td>\n      <td>6</td>\n    </tr>\n    <tr>\n      <th>42</th>\n      <td>1558</td>\n      <td>Pizza</td>\n      <td>Continental</td>\n      <td>7</td>\n    </tr>\n    <tr>\n      <th>43</th>\n      <td>2581</td>\n      <td>Pizza</td>\n      <td>Continental</td>\n      <td>7</td>\n    </tr>\n    <tr>\n      <th>44</th>\n      <td>1962</td>\n      <td>Pizza</td>\n      <td>Continental</td>\n      <td>7</td>\n    </tr>\n    <tr>\n      <th>45</th>\n      <td>1571</td>\n      <td>Fish</td>\n      <td>Continental</td>\n      <td>4</td>\n    </tr>\n    <tr>\n      <th>46</th>\n      <td>2956</td>\n      <td>Fish</td>\n      <td>Continental</td>\n      <td>4</td>\n    </tr>\n    <tr>\n      <th>47</th>\n      <td>2104</td>\n      <td>Fish</td>\n      <td>Continental</td>\n      <td>4</td>\n    </tr>\n    <tr>\n      <th>48</th>\n      <td>2444</td>\n      <td>Seafood</td>\n      <td>Continental</td>\n      <td>11</td>\n    </tr>\n    <tr>\n      <th>49</th>\n      <td>2867</td>\n      <td>Seafood</td>\n      <td>Continental</td>\n      <td>11</td>\n    </tr>\n    <tr>\n      <th>50</th>\n      <td>1445</td>\n      <td>Seafood</td>\n      <td>Continental</td>\n      <td>11</td>\n    </tr>\n  </tbody>\n</table>\n</div>"
     },
     "metadata": {},
     "execution_count": 31
    }
   ],
   "source": [
    "meal_info"
   ]
  },
  {
   "cell_type": "code",
   "execution_count": 32,
   "metadata": {},
   "outputs": [
    {
     "output_type": "execute_result",
     "data": {
      "text/plain": [
       "    meal_id      category      cuisine  le_category\n",
       "0      1885     Beverages         Thai            0\n",
       "1      1993     Beverages         Thai            0\n",
       "2      2539     Beverages         Thai            0\n",
       "3      1248     Beverages       Indian            0\n",
       "4      2631     Beverages       Indian            0\n",
       "5      1311        Extras         Thai            3\n",
       "6      1062     Beverages      Italian            0\n",
       "7      1778     Beverages      Italian            0\n",
       "8      1803        Extras         Thai            3\n",
       "9      1198        Extras         Thai            3\n",
       "10     2707     Beverages      Italian            0\n",
       "11     1847          Soup         Thai           12\n",
       "12     1438          Soup         Thai           12\n",
       "13     2494          Soup         Thai           12\n",
       "14     2760  Other Snacks         Thai            5\n",
       "15     2490         Salad      Italian            9\n",
       "16     1109     Rice Bowl       Indian            8\n",
       "17     2290     Rice Bowl       Indian            8\n",
       "18     1525  Other Snacks         Thai            5\n",
       "19     2704  Other Snacks         Thai            5\n",
       "20     1878      Starters         Thai           13\n",
       "21     2640      Starters         Thai           13\n",
       "22     2577      Starters         Thai           13\n",
       "23     1754      Sandwich      Italian           10\n",
       "24     1971      Sandwich      Italian           10\n",
       "25     2306         Pasta      Italian            6\n",
       "26     2139     Beverages       Indian            0\n",
       "27     2826      Sandwich      Italian           10\n",
       "28     2664         Salad      Italian            9\n",
       "29     2569         Salad      Italian            9\n",
       "30     1230     Beverages  Continental            0\n",
       "31     1207     Beverages  Continental            0\n",
       "32     2322     Beverages  Continental            0\n",
       "33     2492        Desert       Indian            2\n",
       "34     1216         Pasta      Italian            6\n",
       "35     1727     Rice Bowl       Indian            8\n",
       "36     1902       Biryani       Indian            1\n",
       "37     1247       Biryani       Indian            1\n",
       "38     2304        Desert       Indian            2\n",
       "39     1543        Desert       Indian            2\n",
       "40     1770       Biryani       Indian            1\n",
       "41     2126         Pasta      Italian            6\n",
       "42     1558         Pizza  Continental            7\n",
       "43     2581         Pizza  Continental            7\n",
       "44     1962         Pizza  Continental            7\n",
       "45     1571          Fish  Continental            4\n",
       "46     2956          Fish  Continental            4\n",
       "47     2104          Fish  Continental            4\n",
       "48     2444       Seafood  Continental           11\n",
       "49     2867       Seafood  Continental           11\n",
       "50     1445       Seafood  Continental           11"
      ],
      "text/html": "<div>\n<style scoped>\n    .dataframe tbody tr th:only-of-type {\n        vertical-align: middle;\n    }\n\n    .dataframe tbody tr th {\n        vertical-align: top;\n    }\n\n    .dataframe thead th {\n        text-align: right;\n    }\n</style>\n<table border=\"1\" class=\"dataframe\">\n  <thead>\n    <tr style=\"text-align: right;\">\n      <th></th>\n      <th>meal_id</th>\n      <th>category</th>\n      <th>cuisine</th>\n      <th>le_category</th>\n    </tr>\n  </thead>\n  <tbody>\n    <tr>\n      <th>0</th>\n      <td>1885</td>\n      <td>Beverages</td>\n      <td>Thai</td>\n      <td>0</td>\n    </tr>\n    <tr>\n      <th>1</th>\n      <td>1993</td>\n      <td>Beverages</td>\n      <td>Thai</td>\n      <td>0</td>\n    </tr>\n    <tr>\n      <th>2</th>\n      <td>2539</td>\n      <td>Beverages</td>\n      <td>Thai</td>\n      <td>0</td>\n    </tr>\n    <tr>\n      <th>3</th>\n      <td>1248</td>\n      <td>Beverages</td>\n      <td>Indian</td>\n      <td>0</td>\n    </tr>\n    <tr>\n      <th>4</th>\n      <td>2631</td>\n      <td>Beverages</td>\n      <td>Indian</td>\n      <td>0</td>\n    </tr>\n    <tr>\n      <th>5</th>\n      <td>1311</td>\n      <td>Extras</td>\n      <td>Thai</td>\n      <td>3</td>\n    </tr>\n    <tr>\n      <th>6</th>\n      <td>1062</td>\n      <td>Beverages</td>\n      <td>Italian</td>\n      <td>0</td>\n    </tr>\n    <tr>\n      <th>7</th>\n      <td>1778</td>\n      <td>Beverages</td>\n      <td>Italian</td>\n      <td>0</td>\n    </tr>\n    <tr>\n      <th>8</th>\n      <td>1803</td>\n      <td>Extras</td>\n      <td>Thai</td>\n      <td>3</td>\n    </tr>\n    <tr>\n      <th>9</th>\n      <td>1198</td>\n      <td>Extras</td>\n      <td>Thai</td>\n      <td>3</td>\n    </tr>\n    <tr>\n      <th>10</th>\n      <td>2707</td>\n      <td>Beverages</td>\n      <td>Italian</td>\n      <td>0</td>\n    </tr>\n    <tr>\n      <th>11</th>\n      <td>1847</td>\n      <td>Soup</td>\n      <td>Thai</td>\n      <td>12</td>\n    </tr>\n    <tr>\n      <th>12</th>\n      <td>1438</td>\n      <td>Soup</td>\n      <td>Thai</td>\n      <td>12</td>\n    </tr>\n    <tr>\n      <th>13</th>\n      <td>2494</td>\n      <td>Soup</td>\n      <td>Thai</td>\n      <td>12</td>\n    </tr>\n    <tr>\n      <th>14</th>\n      <td>2760</td>\n      <td>Other Snacks</td>\n      <td>Thai</td>\n      <td>5</td>\n    </tr>\n    <tr>\n      <th>15</th>\n      <td>2490</td>\n      <td>Salad</td>\n      <td>Italian</td>\n      <td>9</td>\n    </tr>\n    <tr>\n      <th>16</th>\n      <td>1109</td>\n      <td>Rice Bowl</td>\n      <td>Indian</td>\n      <td>8</td>\n    </tr>\n    <tr>\n      <th>17</th>\n      <td>2290</td>\n      <td>Rice Bowl</td>\n      <td>Indian</td>\n      <td>8</td>\n    </tr>\n    <tr>\n      <th>18</th>\n      <td>1525</td>\n      <td>Other Snacks</td>\n      <td>Thai</td>\n      <td>5</td>\n    </tr>\n    <tr>\n      <th>19</th>\n      <td>2704</td>\n      <td>Other Snacks</td>\n      <td>Thai</td>\n      <td>5</td>\n    </tr>\n    <tr>\n      <th>20</th>\n      <td>1878</td>\n      <td>Starters</td>\n      <td>Thai</td>\n      <td>13</td>\n    </tr>\n    <tr>\n      <th>21</th>\n      <td>2640</td>\n      <td>Starters</td>\n      <td>Thai</td>\n      <td>13</td>\n    </tr>\n    <tr>\n      <th>22</th>\n      <td>2577</td>\n      <td>Starters</td>\n      <td>Thai</td>\n      <td>13</td>\n    </tr>\n    <tr>\n      <th>23</th>\n      <td>1754</td>\n      <td>Sandwich</td>\n      <td>Italian</td>\n      <td>10</td>\n    </tr>\n    <tr>\n      <th>24</th>\n      <td>1971</td>\n      <td>Sandwich</td>\n      <td>Italian</td>\n      <td>10</td>\n    </tr>\n    <tr>\n      <th>25</th>\n      <td>2306</td>\n      <td>Pasta</td>\n      <td>Italian</td>\n      <td>6</td>\n    </tr>\n    <tr>\n      <th>26</th>\n      <td>2139</td>\n      <td>Beverages</td>\n      <td>Indian</td>\n      <td>0</td>\n    </tr>\n    <tr>\n      <th>27</th>\n      <td>2826</td>\n      <td>Sandwich</td>\n      <td>Italian</td>\n      <td>10</td>\n    </tr>\n    <tr>\n      <th>28</th>\n      <td>2664</td>\n      <td>Salad</td>\n      <td>Italian</td>\n      <td>9</td>\n    </tr>\n    <tr>\n      <th>29</th>\n      <td>2569</td>\n      <td>Salad</td>\n      <td>Italian</td>\n      <td>9</td>\n    </tr>\n    <tr>\n      <th>30</th>\n      <td>1230</td>\n      <td>Beverages</td>\n      <td>Continental</td>\n      <td>0</td>\n    </tr>\n    <tr>\n      <th>31</th>\n      <td>1207</td>\n      <td>Beverages</td>\n      <td>Continental</td>\n      <td>0</td>\n    </tr>\n    <tr>\n      <th>32</th>\n      <td>2322</td>\n      <td>Beverages</td>\n      <td>Continental</td>\n      <td>0</td>\n    </tr>\n    <tr>\n      <th>33</th>\n      <td>2492</td>\n      <td>Desert</td>\n      <td>Indian</td>\n      <td>2</td>\n    </tr>\n    <tr>\n      <th>34</th>\n      <td>1216</td>\n      <td>Pasta</td>\n      <td>Italian</td>\n      <td>6</td>\n    </tr>\n    <tr>\n      <th>35</th>\n      <td>1727</td>\n      <td>Rice Bowl</td>\n      <td>Indian</td>\n      <td>8</td>\n    </tr>\n    <tr>\n      <th>36</th>\n      <td>1902</td>\n      <td>Biryani</td>\n      <td>Indian</td>\n      <td>1</td>\n    </tr>\n    <tr>\n      <th>37</th>\n      <td>1247</td>\n      <td>Biryani</td>\n      <td>Indian</td>\n      <td>1</td>\n    </tr>\n    <tr>\n      <th>38</th>\n      <td>2304</td>\n      <td>Desert</td>\n      <td>Indian</td>\n      <td>2</td>\n    </tr>\n    <tr>\n      <th>39</th>\n      <td>1543</td>\n      <td>Desert</td>\n      <td>Indian</td>\n      <td>2</td>\n    </tr>\n    <tr>\n      <th>40</th>\n      <td>1770</td>\n      <td>Biryani</td>\n      <td>Indian</td>\n      <td>1</td>\n    </tr>\n    <tr>\n      <th>41</th>\n      <td>2126</td>\n      <td>Pasta</td>\n      <td>Italian</td>\n      <td>6</td>\n    </tr>\n    <tr>\n      <th>42</th>\n      <td>1558</td>\n      <td>Pizza</td>\n      <td>Continental</td>\n      <td>7</td>\n    </tr>\n    <tr>\n      <th>43</th>\n      <td>2581</td>\n      <td>Pizza</td>\n      <td>Continental</td>\n      <td>7</td>\n    </tr>\n    <tr>\n      <th>44</th>\n      <td>1962</td>\n      <td>Pizza</td>\n      <td>Continental</td>\n      <td>7</td>\n    </tr>\n    <tr>\n      <th>45</th>\n      <td>1571</td>\n      <td>Fish</td>\n      <td>Continental</td>\n      <td>4</td>\n    </tr>\n    <tr>\n      <th>46</th>\n      <td>2956</td>\n      <td>Fish</td>\n      <td>Continental</td>\n      <td>4</td>\n    </tr>\n    <tr>\n      <th>47</th>\n      <td>2104</td>\n      <td>Fish</td>\n      <td>Continental</td>\n      <td>4</td>\n    </tr>\n    <tr>\n      <th>48</th>\n      <td>2444</td>\n      <td>Seafood</td>\n      <td>Continental</td>\n      <td>11</td>\n    </tr>\n    <tr>\n      <th>49</th>\n      <td>2867</td>\n      <td>Seafood</td>\n      <td>Continental</td>\n      <td>11</td>\n    </tr>\n    <tr>\n      <th>50</th>\n      <td>1445</td>\n      <td>Seafood</td>\n      <td>Continental</td>\n      <td>11</td>\n    </tr>\n  </tbody>\n</table>\n</div>"
     },
     "metadata": {},
     "execution_count": 32
    }
   ],
   "source": [
    "one_hot_encode=OneHotEncoder()\n",
    "ohe_frame=pd.DataFrame(one_hot_encode.fit_transform(meal_info[['le_category']]).toarray(),dtype=int,columns=category_list)\n",
    "#meal_info=meal_info.join(ohe_frame)\n",
    "# meal_info.drop(0,axis=1,inplace=True)\n",
    "meal_info"
   ]
  },
  {
   "cell_type": "code",
   "execution_count": 92,
   "metadata": {},
   "outputs": [
    {
     "output_type": "execute_result",
     "data": {
      "text/plain": [
       "    meal_id      category      cuisine  le_category  cuisine_transform\n",
       "0      1885     Beverages         Thai            0                  3\n",
       "1      1993     Beverages         Thai            0                  3\n",
       "2      2539     Beverages         Thai            0                  3\n",
       "3      1248     Beverages       Indian            0                  1\n",
       "4      2631     Beverages       Indian            0                  1\n",
       "5      1311        Extras         Thai            3                  3\n",
       "6      1062     Beverages      Italian            0                  2\n",
       "7      1778     Beverages      Italian            0                  2\n",
       "8      1803        Extras         Thai            3                  3\n",
       "9      1198        Extras         Thai            3                  3\n",
       "10     2707     Beverages      Italian            0                  2\n",
       "11     1847          Soup         Thai           12                  3\n",
       "12     1438          Soup         Thai           12                  3\n",
       "13     2494          Soup         Thai           12                  3\n",
       "14     2760  Other Snacks         Thai            5                  3\n",
       "15     2490         Salad      Italian            9                  2\n",
       "16     1109     Rice Bowl       Indian            8                  1\n",
       "17     2290     Rice Bowl       Indian            8                  1\n",
       "18     1525  Other Snacks         Thai            5                  3\n",
       "19     2704  Other Snacks         Thai            5                  3\n",
       "20     1878      Starters         Thai           13                  3\n",
       "21     2640      Starters         Thai           13                  3\n",
       "22     2577      Starters         Thai           13                  3\n",
       "23     1754      Sandwich      Italian           10                  2\n",
       "24     1971      Sandwich      Italian           10                  2\n",
       "25     2306         Pasta      Italian            6                  2\n",
       "26     2139     Beverages       Indian            0                  1\n",
       "27     2826      Sandwich      Italian           10                  2\n",
       "28     2664         Salad      Italian            9                  2\n",
       "29     2569         Salad      Italian            9                  2\n",
       "30     1230     Beverages  Continental            0                  0\n",
       "31     1207     Beverages  Continental            0                  0\n",
       "32     2322     Beverages  Continental            0                  0\n",
       "33     2492        Desert       Indian            2                  1\n",
       "34     1216         Pasta      Italian            6                  2\n",
       "35     1727     Rice Bowl       Indian            8                  1\n",
       "36     1902       Biryani       Indian            1                  1\n",
       "37     1247       Biryani       Indian            1                  1\n",
       "38     2304        Desert       Indian            2                  1\n",
       "39     1543        Desert       Indian            2                  1\n",
       "40     1770       Biryani       Indian            1                  1\n",
       "41     2126         Pasta      Italian            6                  2\n",
       "42     1558         Pizza  Continental            7                  0\n",
       "43     2581         Pizza  Continental            7                  0\n",
       "44     1962         Pizza  Continental            7                  0\n",
       "45     1571          Fish  Continental            4                  0\n",
       "46     2956          Fish  Continental            4                  0\n",
       "47     2104          Fish  Continental            4                  0\n",
       "48     2444       Seafood  Continental           11                  0\n",
       "49     2867       Seafood  Continental           11                  0\n",
       "50     1445       Seafood  Continental           11                  0"
      ],
      "text/html": "<div>\n<style scoped>\n    .dataframe tbody tr th:only-of-type {\n        vertical-align: middle;\n    }\n\n    .dataframe tbody tr th {\n        vertical-align: top;\n    }\n\n    .dataframe thead th {\n        text-align: right;\n    }\n</style>\n<table border=\"1\" class=\"dataframe\">\n  <thead>\n    <tr style=\"text-align: right;\">\n      <th></th>\n      <th>meal_id</th>\n      <th>category</th>\n      <th>cuisine</th>\n      <th>le_category</th>\n      <th>cuisine_transform</th>\n    </tr>\n  </thead>\n  <tbody>\n    <tr>\n      <th>0</th>\n      <td>1885</td>\n      <td>Beverages</td>\n      <td>Thai</td>\n      <td>0</td>\n      <td>3</td>\n    </tr>\n    <tr>\n      <th>1</th>\n      <td>1993</td>\n      <td>Beverages</td>\n      <td>Thai</td>\n      <td>0</td>\n      <td>3</td>\n    </tr>\n    <tr>\n      <th>2</th>\n      <td>2539</td>\n      <td>Beverages</td>\n      <td>Thai</td>\n      <td>0</td>\n      <td>3</td>\n    </tr>\n    <tr>\n      <th>3</th>\n      <td>1248</td>\n      <td>Beverages</td>\n      <td>Indian</td>\n      <td>0</td>\n      <td>1</td>\n    </tr>\n    <tr>\n      <th>4</th>\n      <td>2631</td>\n      <td>Beverages</td>\n      <td>Indian</td>\n      <td>0</td>\n      <td>1</td>\n    </tr>\n    <tr>\n      <th>5</th>\n      <td>1311</td>\n      <td>Extras</td>\n      <td>Thai</td>\n      <td>3</td>\n      <td>3</td>\n    </tr>\n    <tr>\n      <th>6</th>\n      <td>1062</td>\n      <td>Beverages</td>\n      <td>Italian</td>\n      <td>0</td>\n      <td>2</td>\n    </tr>\n    <tr>\n      <th>7</th>\n      <td>1778</td>\n      <td>Beverages</td>\n      <td>Italian</td>\n      <td>0</td>\n      <td>2</td>\n    </tr>\n    <tr>\n      <th>8</th>\n      <td>1803</td>\n      <td>Extras</td>\n      <td>Thai</td>\n      <td>3</td>\n      <td>3</td>\n    </tr>\n    <tr>\n      <th>9</th>\n      <td>1198</td>\n      <td>Extras</td>\n      <td>Thai</td>\n      <td>3</td>\n      <td>3</td>\n    </tr>\n    <tr>\n      <th>10</th>\n      <td>2707</td>\n      <td>Beverages</td>\n      <td>Italian</td>\n      <td>0</td>\n      <td>2</td>\n    </tr>\n    <tr>\n      <th>11</th>\n      <td>1847</td>\n      <td>Soup</td>\n      <td>Thai</td>\n      <td>12</td>\n      <td>3</td>\n    </tr>\n    <tr>\n      <th>12</th>\n      <td>1438</td>\n      <td>Soup</td>\n      <td>Thai</td>\n      <td>12</td>\n      <td>3</td>\n    </tr>\n    <tr>\n      <th>13</th>\n      <td>2494</td>\n      <td>Soup</td>\n      <td>Thai</td>\n      <td>12</td>\n      <td>3</td>\n    </tr>\n    <tr>\n      <th>14</th>\n      <td>2760</td>\n      <td>Other Snacks</td>\n      <td>Thai</td>\n      <td>5</td>\n      <td>3</td>\n    </tr>\n    <tr>\n      <th>15</th>\n      <td>2490</td>\n      <td>Salad</td>\n      <td>Italian</td>\n      <td>9</td>\n      <td>2</td>\n    </tr>\n    <tr>\n      <th>16</th>\n      <td>1109</td>\n      <td>Rice Bowl</td>\n      <td>Indian</td>\n      <td>8</td>\n      <td>1</td>\n    </tr>\n    <tr>\n      <th>17</th>\n      <td>2290</td>\n      <td>Rice Bowl</td>\n      <td>Indian</td>\n      <td>8</td>\n      <td>1</td>\n    </tr>\n    <tr>\n      <th>18</th>\n      <td>1525</td>\n      <td>Other Snacks</td>\n      <td>Thai</td>\n      <td>5</td>\n      <td>3</td>\n    </tr>\n    <tr>\n      <th>19</th>\n      <td>2704</td>\n      <td>Other Snacks</td>\n      <td>Thai</td>\n      <td>5</td>\n      <td>3</td>\n    </tr>\n    <tr>\n      <th>20</th>\n      <td>1878</td>\n      <td>Starters</td>\n      <td>Thai</td>\n      <td>13</td>\n      <td>3</td>\n    </tr>\n    <tr>\n      <th>21</th>\n      <td>2640</td>\n      <td>Starters</td>\n      <td>Thai</td>\n      <td>13</td>\n      <td>3</td>\n    </tr>\n    <tr>\n      <th>22</th>\n      <td>2577</td>\n      <td>Starters</td>\n      <td>Thai</td>\n      <td>13</td>\n      <td>3</td>\n    </tr>\n    <tr>\n      <th>23</th>\n      <td>1754</td>\n      <td>Sandwich</td>\n      <td>Italian</td>\n      <td>10</td>\n      <td>2</td>\n    </tr>\n    <tr>\n      <th>24</th>\n      <td>1971</td>\n      <td>Sandwich</td>\n      <td>Italian</td>\n      <td>10</td>\n      <td>2</td>\n    </tr>\n    <tr>\n      <th>25</th>\n      <td>2306</td>\n      <td>Pasta</td>\n      <td>Italian</td>\n      <td>6</td>\n      <td>2</td>\n    </tr>\n    <tr>\n      <th>26</th>\n      <td>2139</td>\n      <td>Beverages</td>\n      <td>Indian</td>\n      <td>0</td>\n      <td>1</td>\n    </tr>\n    <tr>\n      <th>27</th>\n      <td>2826</td>\n      <td>Sandwich</td>\n      <td>Italian</td>\n      <td>10</td>\n      <td>2</td>\n    </tr>\n    <tr>\n      <th>28</th>\n      <td>2664</td>\n      <td>Salad</td>\n      <td>Italian</td>\n      <td>9</td>\n      <td>2</td>\n    </tr>\n    <tr>\n      <th>29</th>\n      <td>2569</td>\n      <td>Salad</td>\n      <td>Italian</td>\n      <td>9</td>\n      <td>2</td>\n    </tr>\n    <tr>\n      <th>30</th>\n      <td>1230</td>\n      <td>Beverages</td>\n      <td>Continental</td>\n      <td>0</td>\n      <td>0</td>\n    </tr>\n    <tr>\n      <th>31</th>\n      <td>1207</td>\n      <td>Beverages</td>\n      <td>Continental</td>\n      <td>0</td>\n      <td>0</td>\n    </tr>\n    <tr>\n      <th>32</th>\n      <td>2322</td>\n      <td>Beverages</td>\n      <td>Continental</td>\n      <td>0</td>\n      <td>0</td>\n    </tr>\n    <tr>\n      <th>33</th>\n      <td>2492</td>\n      <td>Desert</td>\n      <td>Indian</td>\n      <td>2</td>\n      <td>1</td>\n    </tr>\n    <tr>\n      <th>34</th>\n      <td>1216</td>\n      <td>Pasta</td>\n      <td>Italian</td>\n      <td>6</td>\n      <td>2</td>\n    </tr>\n    <tr>\n      <th>35</th>\n      <td>1727</td>\n      <td>Rice Bowl</td>\n      <td>Indian</td>\n      <td>8</td>\n      <td>1</td>\n    </tr>\n    <tr>\n      <th>36</th>\n      <td>1902</td>\n      <td>Biryani</td>\n      <td>Indian</td>\n      <td>1</td>\n      <td>1</td>\n    </tr>\n    <tr>\n      <th>37</th>\n      <td>1247</td>\n      <td>Biryani</td>\n      <td>Indian</td>\n      <td>1</td>\n      <td>1</td>\n    </tr>\n    <tr>\n      <th>38</th>\n      <td>2304</td>\n      <td>Desert</td>\n      <td>Indian</td>\n      <td>2</td>\n      <td>1</td>\n    </tr>\n    <tr>\n      <th>39</th>\n      <td>1543</td>\n      <td>Desert</td>\n      <td>Indian</td>\n      <td>2</td>\n      <td>1</td>\n    </tr>\n    <tr>\n      <th>40</th>\n      <td>1770</td>\n      <td>Biryani</td>\n      <td>Indian</td>\n      <td>1</td>\n      <td>1</td>\n    </tr>\n    <tr>\n      <th>41</th>\n      <td>2126</td>\n      <td>Pasta</td>\n      <td>Italian</td>\n      <td>6</td>\n      <td>2</td>\n    </tr>\n    <tr>\n      <th>42</th>\n      <td>1558</td>\n      <td>Pizza</td>\n      <td>Continental</td>\n      <td>7</td>\n      <td>0</td>\n    </tr>\n    <tr>\n      <th>43</th>\n      <td>2581</td>\n      <td>Pizza</td>\n      <td>Continental</td>\n      <td>7</td>\n      <td>0</td>\n    </tr>\n    <tr>\n      <th>44</th>\n      <td>1962</td>\n      <td>Pizza</td>\n      <td>Continental</td>\n      <td>7</td>\n      <td>0</td>\n    </tr>\n    <tr>\n      <th>45</th>\n      <td>1571</td>\n      <td>Fish</td>\n      <td>Continental</td>\n      <td>4</td>\n      <td>0</td>\n    </tr>\n    <tr>\n      <th>46</th>\n      <td>2956</td>\n      <td>Fish</td>\n      <td>Continental</td>\n      <td>4</td>\n      <td>0</td>\n    </tr>\n    <tr>\n      <th>47</th>\n      <td>2104</td>\n      <td>Fish</td>\n      <td>Continental</td>\n      <td>4</td>\n      <td>0</td>\n    </tr>\n    <tr>\n      <th>48</th>\n      <td>2444</td>\n      <td>Seafood</td>\n      <td>Continental</td>\n      <td>11</td>\n      <td>0</td>\n    </tr>\n    <tr>\n      <th>49</th>\n      <td>2867</td>\n      <td>Seafood</td>\n      <td>Continental</td>\n      <td>11</td>\n      <td>0</td>\n    </tr>\n    <tr>\n      <th>50</th>\n      <td>1445</td>\n      <td>Seafood</td>\n      <td>Continental</td>\n      <td>11</td>\n      <td>0</td>\n    </tr>\n  </tbody>\n</table>\n</div>"
     },
     "metadata": {},
     "execution_count": 92
    }
   ],
   "source": [
    "meal_info[\"cuisine_transform\"]=le.fit_transform(meal_info[\"cuisine\"])\n",
    "categories=meal_info[\"cuisine_transform\"].unique()\n",
    "categories.sort()\n",
    "cuisine_list=list(le.inverse_transform(categories))\n",
    "meal_info"
   ]
  },
  {
   "cell_type": "code",
   "execution_count": 64,
   "metadata": {},
   "outputs": [
    {
     "output_type": "execute_result",
     "data": {
      "text/plain": [
       "DecisionTreeClassifier()"
      ]
     },
     "metadata": {},
     "execution_count": 64
    }
   ],
   "source": [
    "temp_dataframe=pd.DataFrame(le.fit_transform(meal_info[\"category\"]),columns=[\"le_category\"])\n",
    "temp_dataframe[\"cuisine_transform\"]=le.fit_transform(meal_info[\"cuisine\"])\n",
    "from sklearn.compose import ColumnTransformer\n",
    "meal_info.join(pd.get_dummies(temp_dataframe,columns=temp_dataframe.columns))\n",
    "y_train=pd.get_dummies(temp_dataframe,columns=temp_dataframe.columns)\n",
    "x_train=np.array(meal_info[\"meal_id\"]).reshape(-1,1)\n",
    "from sklearn.tree import DecisionTreeClassifier\n",
    "model=DecisionTreeClassifier()\n",
    "model.fit(x_train,y_train)\n"
   ]
  },
  {
   "cell_type": "code",
   "execution_count": 94,
   "metadata": {},
   "outputs": [
    {
     "output_type": "stream",
     "name": "stdout",
     "text": [
      "[0 0 0 0 0 0 0 0 0 0 0 1 0 0 1 0 0 0]\n"
     ]
    }
   ],
   "source": [
    "prediction=model.predict([[1445]])\n",
    "#le.inverse_transform(prediction)\n",
    "prediction=prediction.flatten()\n",
    "print(prediction)"
   ]
  },
  {
   "cell_type": "code",
   "execution_count": 95,
   "metadata": {},
   "outputs": [
    {
     "output_type": "stream",
     "name": "stdout",
     "text": [
      "['11', '0']\n['Beverages', 'Continental']\n"
     ]
    }
   ],
   "source": [
    "meal_category_list=y_train.columns.to_list()\n",
    "numerical_predicted_category=[]\n",
    "for category in range(len(prediction)):\n",
    "    if prediction[category]== 1:\n",
    "        res=re.sub(r'[^\\d]+',\"\",meal_category_list[category])\n",
    "        numerical_predicted_category.append(res)\n",
    "print(numerical_predicted_category)\n",
    "predicted_category=[]\n",
    "for category in range(len(category_list)):\n",
    "    if category ==prediction[0]:\n",
    "        predicted_category.append(category_list[category])\n",
    "for category in range(len(cuisine_list)):\n",
    "    if category ==prediction[1]:\n",
    "        predicted_category.append(cuisine_list[category])\n",
    "print(predicted_category)"
   ]
  },
  {
   "cell_type": "code",
   "execution_count": 97,
   "metadata": {},
   "outputs": [
    {
     "output_type": "execute_result",
     "data": {
      "text/plain": [
       "['meal_predictor.pkl']"
      ]
     },
     "metadata": {},
     "execution_count": 97
    }
   ],
   "source": [
    "from joblib import dump\n",
    "dump(model,'meal_predictor.pkl')\n"
   ]
  },
  {
   "cell_type": "code",
   "execution_count": null,
   "metadata": {},
   "outputs": [],
   "source": []
  }
 ]
}