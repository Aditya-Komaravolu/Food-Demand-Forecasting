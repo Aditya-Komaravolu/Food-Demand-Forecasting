{
 "metadata": {
  "language_info": {
   "codemirror_mode": {
    "name": "ipython",
    "version": 3
   },
   "file_extension": ".py",
   "mimetype": "text/x-python",
   "name": "python",
   "nbconvert_exporter": "python",
   "pygments_lexer": "ipython3",
   "version": "3.8.10-final"
  },
  "orig_nbformat": 2,
  "kernelspec": {
   "name": "python381064bitvenv31fd5ab053f5b47498e20dc1940be2efb",
   "display_name": "Python 3.8.10 64-bit ('venv3')"
  }
 },
 "nbformat": 4,
 "nbformat_minor": 2,
 "cells": [
  {
   "cell_type": "code",
   "execution_count": 1,
   "metadata": {},
   "outputs": [
    {
     "output_type": "stream",
     "name": "stdout",
     "text": [
      "[PhysicalDevice(name='/physical_device:CPU:0', device_type='CPU')]\n"
     ]
    }
   ],
   "source": [
    "import jupyterthemes as jt\n",
    "import re\n",
    "import numpy as np\n",
    "import pandas as pd\n",
    "import matplotlib.pyplot as plt\n",
    "import seaborn as sns\n",
    "import warnings\n",
    "import sklearn.preprocessing \n",
    "warnings.filterwarnings(\"ignore\")\n",
    "import tensorflow as tf\n",
    "jt.jtplot.style(theme=\"monokai\", context=\"notebook\",grid=True,ticks=True)\n",
    "if tf.config.list_physical_devices(\"GPU\"):\n",
    "    print(\"{}\".format(tf.config.list_physical_devices(\"GPU\")))\n",
    "else:\n",
    "    print(\"{}\".format(tf.config.list_physical_devices(\"CPU\")))"
   ]
  },
  {
   "cell_type": "code",
   "execution_count": 2,
   "metadata": {},
   "outputs": [
    {
     "output_type": "execute_result",
     "data": {
      "text/plain": [
       "    center_id  city_code  region_code center_type  op_area\n",
       "0          11        679           56      TYPE_A      3.7\n",
       "1          13        590           56      TYPE_B      6.7\n",
       "2         124        590           56      TYPE_C      4.0\n",
       "3          66        648           34      TYPE_A      4.1\n",
       "4          94        632           34      TYPE_C      3.6\n",
       "..        ...        ...          ...         ...      ...\n",
       "72         53        590           56      TYPE_A      3.8\n",
       "73         30        604           56      TYPE_A      3.5\n",
       "74         76        614           85      TYPE_A      3.0\n",
       "75         68        676           34      TYPE_B      4.1\n",
       "76         51        638           56      TYPE_A      7.0\n",
       "\n",
       "[77 rows x 5 columns]"
      ],
      "text/html": "<div>\n<style scoped>\n    .dataframe tbody tr th:only-of-type {\n        vertical-align: middle;\n    }\n\n    .dataframe tbody tr th {\n        vertical-align: top;\n    }\n\n    .dataframe thead th {\n        text-align: right;\n    }\n</style>\n<table border=\"1\" class=\"dataframe\">\n  <thead>\n    <tr style=\"text-align: right;\">\n      <th></th>\n      <th>center_id</th>\n      <th>city_code</th>\n      <th>region_code</th>\n      <th>center_type</th>\n      <th>op_area</th>\n    </tr>\n  </thead>\n  <tbody>\n    <tr>\n      <th>0</th>\n      <td>11</td>\n      <td>679</td>\n      <td>56</td>\n      <td>TYPE_A</td>\n      <td>3.7</td>\n    </tr>\n    <tr>\n      <th>1</th>\n      <td>13</td>\n      <td>590</td>\n      <td>56</td>\n      <td>TYPE_B</td>\n      <td>6.7</td>\n    </tr>\n    <tr>\n      <th>2</th>\n      <td>124</td>\n      <td>590</td>\n      <td>56</td>\n      <td>TYPE_C</td>\n      <td>4.0</td>\n    </tr>\n    <tr>\n      <th>3</th>\n      <td>66</td>\n      <td>648</td>\n      <td>34</td>\n      <td>TYPE_A</td>\n      <td>4.1</td>\n    </tr>\n    <tr>\n      <th>4</th>\n      <td>94</td>\n      <td>632</td>\n      <td>34</td>\n      <td>TYPE_C</td>\n      <td>3.6</td>\n    </tr>\n    <tr>\n      <th>...</th>\n      <td>...</td>\n      <td>...</td>\n      <td>...</td>\n      <td>...</td>\n      <td>...</td>\n    </tr>\n    <tr>\n      <th>72</th>\n      <td>53</td>\n      <td>590</td>\n      <td>56</td>\n      <td>TYPE_A</td>\n      <td>3.8</td>\n    </tr>\n    <tr>\n      <th>73</th>\n      <td>30</td>\n      <td>604</td>\n      <td>56</td>\n      <td>TYPE_A</td>\n      <td>3.5</td>\n    </tr>\n    <tr>\n      <th>74</th>\n      <td>76</td>\n      <td>614</td>\n      <td>85</td>\n      <td>TYPE_A</td>\n      <td>3.0</td>\n    </tr>\n    <tr>\n      <th>75</th>\n      <td>68</td>\n      <td>676</td>\n      <td>34</td>\n      <td>TYPE_B</td>\n      <td>4.1</td>\n    </tr>\n    <tr>\n      <th>76</th>\n      <td>51</td>\n      <td>638</td>\n      <td>56</td>\n      <td>TYPE_A</td>\n      <td>7.0</td>\n    </tr>\n  </tbody>\n</table>\n<p>77 rows × 5 columns</p>\n</div>"
     },
     "metadata": {},
     "execution_count": 2
    }
   ],
   "source": [
    "fulfilment_center_info=pd.read_csv(\"fulfilment_center_info.csv\")\n",
    "fulfilment_center_info"
   ]
  },
  {
   "source": [
    "# Check for * _Outliers_ * in the data \n",
    "<img style=\"float: right;\" src=\"images/fulfilment_center/download.png\">\n",
    "\n",
    "## First check for any outliers in the dataset. An outlier is essentially a value which is our of the range compared to the rest of the values of dataset. These values disrupt the statistical distributions of a given table. As of now, from the box plot, there are no outliers for the major feature columns in the dataset.\n",
    "\n",
    "\n",
    "## Since eveything looks fine let's proceed.\n"
   ],
   "cell_type": "markdown",
   "metadata": {}
  },
  {
   "cell_type": "code",
   "execution_count": 6,
   "metadata": {},
   "outputs": [
    {
     "output_type": "display_data",
     "data": {
      "text/plain": "<Figure size 576x504 with 1 Axes>",
      "image/svg+xml": "<?xml version=\"1.0\" encoding=\"utf-8\" standalone=\"no\"?>\n<!DOCTYPE svg PUBLIC \"-//W3C//DTD SVG 1.1//EN\"\n  \"http://www.w3.org/Graphics/SVG/1.1/DTD/svg11.dtd\">\n<svg height=\"420.464875pt\" version=\"1.1\" viewBox=\"0 0 497.85025 420.464875\" width=\"497.85025pt\" xmlns=\"http://www.w3.org/2000/svg\" xmlns:xlink=\"http://www.w3.org/1999/xlink\">\n <metadata>\n  <rdf:RDF xmlns:cc=\"http://creativecommons.org/ns#\" xmlns:dc=\"http://purl.org/dc/elements/1.1/\" xmlns:rdf=\"http://www.w3.org/1999/02/22-rdf-syntax-ns#\">\n   <cc:Work>\n    <dc:type rdf:resource=\"http://purl.org/dc/dcmitype/StillImage\"/>\n    <dc:date>2021-06-28T17:04:09.669697</dc:date>\n    <dc:format>image/svg+xml</dc:format>\n    <dc:creator>\n     <cc:Agent>\n      <dc:title>Matplotlib v3.4.2, https://matplotlib.org/</dc:title>\n     </cc:Agent>\n    </dc:creator>\n   </cc:Work>\n  </rdf:RDF>\n </metadata>\n <defs>\n  <style type=\"text/css\">*{stroke-linecap:butt;stroke-linejoin:round;}</style>\n </defs>\n <g id=\"figure_1\">\n  <g id=\"patch_1\">\n   <path d=\"M 0 420.464875 \nL 497.85025 420.464875 \nL 497.85025 0 \nL 0 0 \nz\n\" style=\"fill:#232323;\"/>\n  </g>\n  <g id=\"axes_1\">\n   <g id=\"patch_2\">\n    <path d=\"M 44.25025 387.72 \nL 490.65025 387.72 \nL 490.65025 7.2 \nL 44.25025 7.2 \nz\n\" style=\"fill:#232323;\"/>\n   </g>\n   <g id=\"matplotlib.axis_1\">\n    <g id=\"xtick_1\">\n     <g id=\"line2d_1\">\n      <path clip-path=\"url(#pffd295a4fe)\" d=\"M 100.05025 387.72 \nL 100.05025 7.2 \n\" style=\"fill:none;stroke:#303030;stroke-linecap:square;stroke-width:1.4;\"/>\n     </g>\n     <g id=\"line2d_2\">\n      <defs>\n       <path d=\"M 0 0 \nL 0 6 \n\" id=\"m150d4a20ac\" style=\"stroke:#bbbbbb;\"/>\n      </defs>\n      <g>\n       <use style=\"fill:#bbbbbb;stroke:#bbbbbb;\" x=\"100.05025\" xlink:href=\"#m150d4a20ac\" y=\"387.72\"/>\n      </g>\n     </g>\n     <g id=\"text_1\">\n      <!-- center_id -->\n      <g style=\"fill:#bbbbbb;\" transform=\"translate(70.88125 410.294031)scale(0.126 -0.126)\">\n       <defs>\n        <path d=\"M 3122 3366 \nL 3122 2828 \nQ 2878 2963 2633 3030 \nQ 2388 3097 2138 3097 \nQ 1578 3097 1268 2742 \nQ 959 2388 959 1747 \nQ 959 1106 1268 751 \nQ 1578 397 2138 397 \nQ 2388 397 2633 464 \nQ 2878 531 3122 666 \nL 3122 134 \nQ 2881 22 2623 -34 \nQ 2366 -91 2075 -91 \nQ 1284 -91 818 406 \nQ 353 903 353 1747 \nQ 353 2603 823 3093 \nQ 1294 3584 2113 3584 \nQ 2378 3584 2631 3529 \nQ 2884 3475 3122 3366 \nz\n\" id=\"DejaVuSans-63\" transform=\"scale(0.015625)\"/>\n        <path d=\"M 3597 1894 \nL 3597 1613 \nL 953 1613 \nQ 991 1019 1311 708 \nQ 1631 397 2203 397 \nQ 2534 397 2845 478 \nQ 3156 559 3463 722 \nL 3463 178 \nQ 3153 47 2828 -22 \nQ 2503 -91 2169 -91 \nQ 1331 -91 842 396 \nQ 353 884 353 1716 \nQ 353 2575 817 3079 \nQ 1281 3584 2069 3584 \nQ 2775 3584 3186 3129 \nQ 3597 2675 3597 1894 \nz\nM 3022 2063 \nQ 3016 2534 2758 2815 \nQ 2500 3097 2075 3097 \nQ 1594 3097 1305 2825 \nQ 1016 2553 972 2059 \nL 3022 2063 \nz\n\" id=\"DejaVuSans-65\" transform=\"scale(0.015625)\"/>\n        <path d=\"M 3513 2113 \nL 3513 0 \nL 2938 0 \nL 2938 2094 \nQ 2938 2591 2744 2837 \nQ 2550 3084 2163 3084 \nQ 1697 3084 1428 2787 \nQ 1159 2491 1159 1978 \nL 1159 0 \nL 581 0 \nL 581 3500 \nL 1159 3500 \nL 1159 2956 \nQ 1366 3272 1645 3428 \nQ 1925 3584 2291 3584 \nQ 2894 3584 3203 3211 \nQ 3513 2838 3513 2113 \nz\n\" id=\"DejaVuSans-6e\" transform=\"scale(0.015625)\"/>\n        <path d=\"M 1172 4494 \nL 1172 3500 \nL 2356 3500 \nL 2356 3053 \nL 1172 3053 \nL 1172 1153 \nQ 1172 725 1289 603 \nQ 1406 481 1766 481 \nL 2356 481 \nL 2356 0 \nL 1766 0 \nQ 1100 0 847 248 \nQ 594 497 594 1153 \nL 594 3053 \nL 172 3053 \nL 172 3500 \nL 594 3500 \nL 594 4494 \nL 1172 4494 \nz\n\" id=\"DejaVuSans-74\" transform=\"scale(0.015625)\"/>\n        <path d=\"M 2631 2963 \nQ 2534 3019 2420 3045 \nQ 2306 3072 2169 3072 \nQ 1681 3072 1420 2755 \nQ 1159 2438 1159 1844 \nL 1159 0 \nL 581 0 \nL 581 3500 \nL 1159 3500 \nL 1159 2956 \nQ 1341 3275 1631 3429 \nQ 1922 3584 2338 3584 \nQ 2397 3584 2469 3576 \nQ 2541 3569 2628 3553 \nL 2631 2963 \nz\n\" id=\"DejaVuSans-72\" transform=\"scale(0.015625)\"/>\n        <path d=\"M 3263 -1063 \nL 3263 -1509 \nL -63 -1509 \nL -63 -1063 \nL 3263 -1063 \nz\n\" id=\"DejaVuSans-5f\" transform=\"scale(0.015625)\"/>\n        <path d=\"M 603 3500 \nL 1178 3500 \nL 1178 0 \nL 603 0 \nL 603 3500 \nz\nM 603 4863 \nL 1178 4863 \nL 1178 4134 \nL 603 4134 \nL 603 4863 \nz\n\" id=\"DejaVuSans-69\" transform=\"scale(0.015625)\"/>\n        <path d=\"M 2906 2969 \nL 2906 4863 \nL 3481 4863 \nL 3481 0 \nL 2906 0 \nL 2906 525 \nQ 2725 213 2448 61 \nQ 2172 -91 1784 -91 \nQ 1150 -91 751 415 \nQ 353 922 353 1747 \nQ 353 2572 751 3078 \nQ 1150 3584 1784 3584 \nQ 2172 3584 2448 3432 \nQ 2725 3281 2906 2969 \nz\nM 947 1747 \nQ 947 1113 1208 752 \nQ 1469 391 1925 391 \nQ 2381 391 2643 752 \nQ 2906 1113 2906 1747 \nQ 2906 2381 2643 2742 \nQ 2381 3103 1925 3103 \nQ 1469 3103 1208 2742 \nQ 947 2381 947 1747 \nz\n\" id=\"DejaVuSans-64\" transform=\"scale(0.015625)\"/>\n       </defs>\n       <use xlink:href=\"#DejaVuSans-63\"/>\n       <use x=\"54.980469\" xlink:href=\"#DejaVuSans-65\"/>\n       <use x=\"116.503906\" xlink:href=\"#DejaVuSans-6e\"/>\n       <use x=\"179.882812\" xlink:href=\"#DejaVuSans-74\"/>\n       <use x=\"219.091797\" xlink:href=\"#DejaVuSans-65\"/>\n       <use x=\"280.615234\" xlink:href=\"#DejaVuSans-72\"/>\n       <use x=\"321.728516\" xlink:href=\"#DejaVuSans-5f\"/>\n       <use x=\"371.728516\" xlink:href=\"#DejaVuSans-69\"/>\n       <use x=\"399.511719\" xlink:href=\"#DejaVuSans-64\"/>\n      </g>\n     </g>\n    </g>\n    <g id=\"xtick_2\">\n     <g id=\"line2d_3\">\n      <path clip-path=\"url(#pffd295a4fe)\" d=\"M 211.65025 387.72 \nL 211.65025 7.2 \n\" style=\"fill:none;stroke:#303030;stroke-linecap:square;stroke-width:1.4;\"/>\n     </g>\n     <g id=\"line2d_4\">\n      <g>\n       <use style=\"fill:#bbbbbb;stroke:#bbbbbb;\" x=\"211.65025\" xlink:href=\"#m150d4a20ac\" y=\"387.72\"/>\n      </g>\n     </g>\n     <g id=\"text_2\">\n      <!-- city_code -->\n      <g style=\"fill:#bbbbbb;\" transform=\"translate(181.892594 410.294031)scale(0.126 -0.126)\">\n       <defs>\n        <path d=\"M 2059 -325 \nQ 1816 -950 1584 -1140 \nQ 1353 -1331 966 -1331 \nL 506 -1331 \nL 506 -850 \nL 844 -850 \nQ 1081 -850 1212 -737 \nQ 1344 -625 1503 -206 \nL 1606 56 \nL 191 3500 \nL 800 3500 \nL 1894 763 \nL 2988 3500 \nL 3597 3500 \nL 2059 -325 \nz\n\" id=\"DejaVuSans-79\" transform=\"scale(0.015625)\"/>\n        <path d=\"M 1959 3097 \nQ 1497 3097 1228 2736 \nQ 959 2375 959 1747 \nQ 959 1119 1226 758 \nQ 1494 397 1959 397 \nQ 2419 397 2687 759 \nQ 2956 1122 2956 1747 \nQ 2956 2369 2687 2733 \nQ 2419 3097 1959 3097 \nz\nM 1959 3584 \nQ 2709 3584 3137 3096 \nQ 3566 2609 3566 1747 \nQ 3566 888 3137 398 \nQ 2709 -91 1959 -91 \nQ 1206 -91 779 398 \nQ 353 888 353 1747 \nQ 353 2609 779 3096 \nQ 1206 3584 1959 3584 \nz\n\" id=\"DejaVuSans-6f\" transform=\"scale(0.015625)\"/>\n       </defs>\n       <use xlink:href=\"#DejaVuSans-63\"/>\n       <use x=\"54.980469\" xlink:href=\"#DejaVuSans-69\"/>\n       <use x=\"82.763672\" xlink:href=\"#DejaVuSans-74\"/>\n       <use x=\"121.972656\" xlink:href=\"#DejaVuSans-79\"/>\n       <use x=\"181.152344\" xlink:href=\"#DejaVuSans-5f\"/>\n       <use x=\"231.152344\" xlink:href=\"#DejaVuSans-63\"/>\n       <use x=\"286.132812\" xlink:href=\"#DejaVuSans-6f\"/>\n       <use x=\"347.314453\" xlink:href=\"#DejaVuSans-64\"/>\n       <use x=\"410.791016\" xlink:href=\"#DejaVuSans-65\"/>\n      </g>\n     </g>\n    </g>\n    <g id=\"xtick_3\">\n     <g id=\"line2d_5\">\n      <path clip-path=\"url(#pffd295a4fe)\" d=\"M 323.25025 387.72 \nL 323.25025 7.2 \n\" style=\"fill:none;stroke:#303030;stroke-linecap:square;stroke-width:1.4;\"/>\n     </g>\n     <g id=\"line2d_6\">\n      <g>\n       <use style=\"fill:#bbbbbb;stroke:#bbbbbb;\" x=\"323.25025\" xlink:href=\"#m150d4a20ac\" y=\"387.72\"/>\n      </g>\n     </g>\n     <g id=\"text_3\">\n      <!-- region_code -->\n      <g style=\"fill:#bbbbbb;\" transform=\"translate(284.983656 410.294031)scale(0.126 -0.126)\">\n       <defs>\n        <path d=\"M 2906 1791 \nQ 2906 2416 2648 2759 \nQ 2391 3103 1925 3103 \nQ 1463 3103 1205 2759 \nQ 947 2416 947 1791 \nQ 947 1169 1205 825 \nQ 1463 481 1925 481 \nQ 2391 481 2648 825 \nQ 2906 1169 2906 1791 \nz\nM 3481 434 \nQ 3481 -459 3084 -895 \nQ 2688 -1331 1869 -1331 \nQ 1566 -1331 1297 -1286 \nQ 1028 -1241 775 -1147 \nL 775 -588 \nQ 1028 -725 1275 -790 \nQ 1522 -856 1778 -856 \nQ 2344 -856 2625 -561 \nQ 2906 -266 2906 331 \nL 2906 616 \nQ 2728 306 2450 153 \nQ 2172 0 1784 0 \nQ 1141 0 747 490 \nQ 353 981 353 1791 \nQ 353 2603 747 3093 \nQ 1141 3584 1784 3584 \nQ 2172 3584 2450 3431 \nQ 2728 3278 2906 2969 \nL 2906 3500 \nL 3481 3500 \nL 3481 434 \nz\n\" id=\"DejaVuSans-67\" transform=\"scale(0.015625)\"/>\n       </defs>\n       <use xlink:href=\"#DejaVuSans-72\"/>\n       <use x=\"38.863281\" xlink:href=\"#DejaVuSans-65\"/>\n       <use x=\"100.386719\" xlink:href=\"#DejaVuSans-67\"/>\n       <use x=\"163.863281\" xlink:href=\"#DejaVuSans-69\"/>\n       <use x=\"191.646484\" xlink:href=\"#DejaVuSans-6f\"/>\n       <use x=\"252.828125\" xlink:href=\"#DejaVuSans-6e\"/>\n       <use x=\"316.207031\" xlink:href=\"#DejaVuSans-5f\"/>\n       <use x=\"366.207031\" xlink:href=\"#DejaVuSans-63\"/>\n       <use x=\"421.1875\" xlink:href=\"#DejaVuSans-6f\"/>\n       <use x=\"482.369141\" xlink:href=\"#DejaVuSans-64\"/>\n       <use x=\"545.845703\" xlink:href=\"#DejaVuSans-65\"/>\n      </g>\n     </g>\n    </g>\n    <g id=\"xtick_4\">\n     <g id=\"line2d_7\">\n      <path clip-path=\"url(#pffd295a4fe)\" d=\"M 434.85025 387.72 \nL 434.85025 7.2 \n\" style=\"fill:none;stroke:#303030;stroke-linecap:square;stroke-width:1.4;\"/>\n     </g>\n     <g id=\"line2d_8\">\n      <g>\n       <use style=\"fill:#bbbbbb;stroke:#bbbbbb;\" x=\"434.85025\" xlink:href=\"#m150d4a20ac\" y=\"387.72\"/>\n      </g>\n     </g>\n     <g id=\"text_4\">\n      <!-- op_area -->\n      <g style=\"fill:#bbbbbb;\" transform=\"translate(409.799875 409.943594)scale(0.126 -0.126)\">\n       <defs>\n        <path d=\"M 1159 525 \nL 1159 -1331 \nL 581 -1331 \nL 581 3500 \nL 1159 3500 \nL 1159 2969 \nQ 1341 3281 1617 3432 \nQ 1894 3584 2278 3584 \nQ 2916 3584 3314 3078 \nQ 3713 2572 3713 1747 \nQ 3713 922 3314 415 \nQ 2916 -91 2278 -91 \nQ 1894 -91 1617 61 \nQ 1341 213 1159 525 \nz\nM 3116 1747 \nQ 3116 2381 2855 2742 \nQ 2594 3103 2138 3103 \nQ 1681 3103 1420 2742 \nQ 1159 2381 1159 1747 \nQ 1159 1113 1420 752 \nQ 1681 391 2138 391 \nQ 2594 391 2855 752 \nQ 3116 1113 3116 1747 \nz\n\" id=\"DejaVuSans-70\" transform=\"scale(0.015625)\"/>\n        <path d=\"M 2194 1759 \nQ 1497 1759 1228 1600 \nQ 959 1441 959 1056 \nQ 959 750 1161 570 \nQ 1363 391 1709 391 \nQ 2188 391 2477 730 \nQ 2766 1069 2766 1631 \nL 2766 1759 \nL 2194 1759 \nz\nM 3341 1997 \nL 3341 0 \nL 2766 0 \nL 2766 531 \nQ 2569 213 2275 61 \nQ 1981 -91 1556 -91 \nQ 1019 -91 701 211 \nQ 384 513 384 1019 \nQ 384 1609 779 1909 \nQ 1175 2209 1959 2209 \nL 2766 2209 \nL 2766 2266 \nQ 2766 2663 2505 2880 \nQ 2244 3097 1772 3097 \nQ 1472 3097 1187 3025 \nQ 903 2953 641 2809 \nL 641 3341 \nQ 956 3463 1253 3523 \nQ 1550 3584 1831 3584 \nQ 2591 3584 2966 3190 \nQ 3341 2797 3341 1997 \nz\n\" id=\"DejaVuSans-61\" transform=\"scale(0.015625)\"/>\n       </defs>\n       <use xlink:href=\"#DejaVuSans-6f\"/>\n       <use x=\"61.181641\" xlink:href=\"#DejaVuSans-70\"/>\n       <use x=\"124.658203\" xlink:href=\"#DejaVuSans-5f\"/>\n       <use x=\"174.658203\" xlink:href=\"#DejaVuSans-61\"/>\n       <use x=\"235.9375\" xlink:href=\"#DejaVuSans-72\"/>\n       <use x=\"274.800781\" xlink:href=\"#DejaVuSans-65\"/>\n       <use x=\"336.324219\" xlink:href=\"#DejaVuSans-61\"/>\n      </g>\n     </g>\n    </g>\n   </g>\n   <g id=\"matplotlib.axis_2\">\n    <g id=\"ytick_1\">\n     <g id=\"line2d_9\">\n      <path clip-path=\"url(#pffd295a4fe)\" d=\"M 44.25025 370.860843 \nL 490.65025 370.860843 \n\" style=\"fill:none;stroke:#303030;stroke-linecap:square;stroke-width:1.4;\"/>\n     </g>\n     <g id=\"line2d_10\">\n      <defs>\n       <path d=\"M 0 0 \nL -6 0 \n\" id=\"m673cd73034\" style=\"stroke:#bbbbbb;\"/>\n      </defs>\n      <g>\n       <use style=\"fill:#bbbbbb;stroke:#bbbbbb;\" x=\"44.25025\" xlink:href=\"#m673cd73034\" y=\"370.860843\"/>\n      </g>\n     </g>\n     <g id=\"text_5\">\n      <!-- 0 -->\n      <g style=\"fill:#bbbbbb;\" transform=\"translate(23.2335 375.647858)scale(0.126 -0.126)\">\n       <defs>\n        <path d=\"M 2034 4250 \nQ 1547 4250 1301 3770 \nQ 1056 3291 1056 2328 \nQ 1056 1369 1301 889 \nQ 1547 409 2034 409 \nQ 2525 409 2770 889 \nQ 3016 1369 3016 2328 \nQ 3016 3291 2770 3770 \nQ 2525 4250 2034 4250 \nz\nM 2034 4750 \nQ 2819 4750 3233 4129 \nQ 3647 3509 3647 2328 \nQ 3647 1150 3233 529 \nQ 2819 -91 2034 -91 \nQ 1250 -91 836 529 \nQ 422 1150 422 2328 \nQ 422 3509 836 4129 \nQ 1250 4750 2034 4750 \nz\n\" id=\"DejaVuSans-30\" transform=\"scale(0.015625)\"/>\n       </defs>\n       <use xlink:href=\"#DejaVuSans-30\"/>\n      </g>\n     </g>\n    </g>\n    <g id=\"ytick_2\">\n     <g id=\"line2d_11\">\n      <path clip-path=\"url(#pffd295a4fe)\" d=\"M 44.25025 322.282374 \nL 490.65025 322.282374 \n\" style=\"fill:none;stroke:#303030;stroke-linecap:square;stroke-width:1.4;\"/>\n     </g>\n     <g id=\"line2d_12\">\n      <g>\n       <use style=\"fill:#bbbbbb;stroke:#bbbbbb;\" x=\"44.25025\" xlink:href=\"#m673cd73034\" y=\"322.282374\"/>\n      </g>\n     </g>\n     <g id=\"text_6\">\n      <!-- 100 -->\n      <g style=\"fill:#bbbbbb;\" transform=\"translate(7.2 327.06939)scale(0.126 -0.126)\">\n       <defs>\n        <path d=\"M 794 531 \nL 1825 531 \nL 1825 4091 \nL 703 3866 \nL 703 4441 \nL 1819 4666 \nL 2450 4666 \nL 2450 531 \nL 3481 531 \nL 3481 0 \nL 794 0 \nL 794 531 \nz\n\" id=\"DejaVuSans-31\" transform=\"scale(0.015625)\"/>\n       </defs>\n       <use xlink:href=\"#DejaVuSans-31\"/>\n       <use x=\"63.623047\" xlink:href=\"#DejaVuSans-30\"/>\n       <use x=\"127.246094\" xlink:href=\"#DejaVuSans-30\"/>\n      </g>\n     </g>\n    </g>\n    <g id=\"ytick_3\">\n     <g id=\"line2d_13\">\n      <path clip-path=\"url(#pffd295a4fe)\" d=\"M 44.25025 273.703906 \nL 490.65025 273.703906 \n\" style=\"fill:none;stroke:#303030;stroke-linecap:square;stroke-width:1.4;\"/>\n     </g>\n     <g id=\"line2d_14\">\n      <g>\n       <use style=\"fill:#bbbbbb;stroke:#bbbbbb;\" x=\"44.25025\" xlink:href=\"#m673cd73034\" y=\"273.703906\"/>\n      </g>\n     </g>\n     <g id=\"text_7\">\n      <!-- 200 -->\n      <g style=\"fill:#bbbbbb;\" transform=\"translate(7.2 278.490922)scale(0.126 -0.126)\">\n       <defs>\n        <path d=\"M 1228 531 \nL 3431 531 \nL 3431 0 \nL 469 0 \nL 469 531 \nQ 828 903 1448 1529 \nQ 2069 2156 2228 2338 \nQ 2531 2678 2651 2914 \nQ 2772 3150 2772 3378 \nQ 2772 3750 2511 3984 \nQ 2250 4219 1831 4219 \nQ 1534 4219 1204 4116 \nQ 875 4013 500 3803 \nL 500 4441 \nQ 881 4594 1212 4672 \nQ 1544 4750 1819 4750 \nQ 2544 4750 2975 4387 \nQ 3406 4025 3406 3419 \nQ 3406 3131 3298 2873 \nQ 3191 2616 2906 2266 \nQ 2828 2175 2409 1742 \nQ 1991 1309 1228 531 \nz\n\" id=\"DejaVuSans-32\" transform=\"scale(0.015625)\"/>\n       </defs>\n       <use xlink:href=\"#DejaVuSans-32\"/>\n       <use x=\"63.623047\" xlink:href=\"#DejaVuSans-30\"/>\n       <use x=\"127.246094\" xlink:href=\"#DejaVuSans-30\"/>\n      </g>\n     </g>\n    </g>\n    <g id=\"ytick_4\">\n     <g id=\"line2d_15\">\n      <path clip-path=\"url(#pffd295a4fe)\" d=\"M 44.25025 225.125438 \nL 490.65025 225.125438 \n\" style=\"fill:none;stroke:#303030;stroke-linecap:square;stroke-width:1.4;\"/>\n     </g>\n     <g id=\"line2d_16\">\n      <g>\n       <use style=\"fill:#bbbbbb;stroke:#bbbbbb;\" x=\"44.25025\" xlink:href=\"#m673cd73034\" y=\"225.125438\"/>\n      </g>\n     </g>\n     <g id=\"text_8\">\n      <!-- 300 -->\n      <g style=\"fill:#bbbbbb;\" transform=\"translate(7.2 229.912453)scale(0.126 -0.126)\">\n       <defs>\n        <path d=\"M 2597 2516 \nQ 3050 2419 3304 2112 \nQ 3559 1806 3559 1356 \nQ 3559 666 3084 287 \nQ 2609 -91 1734 -91 \nQ 1441 -91 1130 -33 \nQ 819 25 488 141 \nL 488 750 \nQ 750 597 1062 519 \nQ 1375 441 1716 441 \nQ 2309 441 2620 675 \nQ 2931 909 2931 1356 \nQ 2931 1769 2642 2001 \nQ 2353 2234 1838 2234 \nL 1294 2234 \nL 1294 2753 \nL 1863 2753 \nQ 2328 2753 2575 2939 \nQ 2822 3125 2822 3475 \nQ 2822 3834 2567 4026 \nQ 2313 4219 1838 4219 \nQ 1578 4219 1281 4162 \nQ 984 4106 628 3988 \nL 628 4550 \nQ 988 4650 1302 4700 \nQ 1616 4750 1894 4750 \nQ 2613 4750 3031 4423 \nQ 3450 4097 3450 3541 \nQ 3450 3153 3228 2886 \nQ 3006 2619 2597 2516 \nz\n\" id=\"DejaVuSans-33\" transform=\"scale(0.015625)\"/>\n       </defs>\n       <use xlink:href=\"#DejaVuSans-33\"/>\n       <use x=\"63.623047\" xlink:href=\"#DejaVuSans-30\"/>\n       <use x=\"127.246094\" xlink:href=\"#DejaVuSans-30\"/>\n      </g>\n     </g>\n    </g>\n    <g id=\"ytick_5\">\n     <g id=\"line2d_17\">\n      <path clip-path=\"url(#pffd295a4fe)\" d=\"M 44.25025 176.546969 \nL 490.65025 176.546969 \n\" style=\"fill:none;stroke:#303030;stroke-linecap:square;stroke-width:1.4;\"/>\n     </g>\n     <g id=\"line2d_18\">\n      <g>\n       <use style=\"fill:#bbbbbb;stroke:#bbbbbb;\" x=\"44.25025\" xlink:href=\"#m673cd73034\" y=\"176.546969\"/>\n      </g>\n     </g>\n     <g id=\"text_9\">\n      <!-- 400 -->\n      <g style=\"fill:#bbbbbb;\" transform=\"translate(7.2 181.333985)scale(0.126 -0.126)\">\n       <defs>\n        <path d=\"M 2419 4116 \nL 825 1625 \nL 2419 1625 \nL 2419 4116 \nz\nM 2253 4666 \nL 3047 4666 \nL 3047 1625 \nL 3713 1625 \nL 3713 1100 \nL 3047 1100 \nL 3047 0 \nL 2419 0 \nL 2419 1100 \nL 313 1100 \nL 313 1709 \nL 2253 4666 \nz\n\" id=\"DejaVuSans-34\" transform=\"scale(0.015625)\"/>\n       </defs>\n       <use xlink:href=\"#DejaVuSans-34\"/>\n       <use x=\"63.623047\" xlink:href=\"#DejaVuSans-30\"/>\n       <use x=\"127.246094\" xlink:href=\"#DejaVuSans-30\"/>\n      </g>\n     </g>\n    </g>\n    <g id=\"ytick_6\">\n     <g id=\"line2d_19\">\n      <path clip-path=\"url(#pffd295a4fe)\" d=\"M 44.25025 127.968501 \nL 490.65025 127.968501 \n\" style=\"fill:none;stroke:#303030;stroke-linecap:square;stroke-width:1.4;\"/>\n     </g>\n     <g id=\"line2d_20\">\n      <g>\n       <use style=\"fill:#bbbbbb;stroke:#bbbbbb;\" x=\"44.25025\" xlink:href=\"#m673cd73034\" y=\"127.968501\"/>\n      </g>\n     </g>\n     <g id=\"text_10\">\n      <!-- 500 -->\n      <g style=\"fill:#bbbbbb;\" transform=\"translate(7.2 132.755517)scale(0.126 -0.126)\">\n       <defs>\n        <path d=\"M 691 4666 \nL 3169 4666 \nL 3169 4134 \nL 1269 4134 \nL 1269 2991 \nQ 1406 3038 1543 3061 \nQ 1681 3084 1819 3084 \nQ 2600 3084 3056 2656 \nQ 3513 2228 3513 1497 \nQ 3513 744 3044 326 \nQ 2575 -91 1722 -91 \nQ 1428 -91 1123 -41 \nQ 819 9 494 109 \nL 494 744 \nQ 775 591 1075 516 \nQ 1375 441 1709 441 \nQ 2250 441 2565 725 \nQ 2881 1009 2881 1497 \nQ 2881 1984 2565 2268 \nQ 2250 2553 1709 2553 \nQ 1456 2553 1204 2497 \nQ 953 2441 691 2322 \nL 691 4666 \nz\n\" id=\"DejaVuSans-35\" transform=\"scale(0.015625)\"/>\n       </defs>\n       <use xlink:href=\"#DejaVuSans-35\"/>\n       <use x=\"63.623047\" xlink:href=\"#DejaVuSans-30\"/>\n       <use x=\"127.246094\" xlink:href=\"#DejaVuSans-30\"/>\n      </g>\n     </g>\n    </g>\n    <g id=\"ytick_7\">\n     <g id=\"line2d_21\">\n      <path clip-path=\"url(#pffd295a4fe)\" d=\"M 44.25025 79.390033 \nL 490.65025 79.390033 \n\" style=\"fill:none;stroke:#303030;stroke-linecap:square;stroke-width:1.4;\"/>\n     </g>\n     <g id=\"line2d_22\">\n      <g>\n       <use style=\"fill:#bbbbbb;stroke:#bbbbbb;\" x=\"44.25025\" xlink:href=\"#m673cd73034\" y=\"79.390033\"/>\n      </g>\n     </g>\n     <g id=\"text_11\">\n      <!-- 600 -->\n      <g style=\"fill:#bbbbbb;\" transform=\"translate(7.2 84.177048)scale(0.126 -0.126)\">\n       <defs>\n        <path d=\"M 2113 2584 \nQ 1688 2584 1439 2293 \nQ 1191 2003 1191 1497 \nQ 1191 994 1439 701 \nQ 1688 409 2113 409 \nQ 2538 409 2786 701 \nQ 3034 994 3034 1497 \nQ 3034 2003 2786 2293 \nQ 2538 2584 2113 2584 \nz\nM 3366 4563 \nL 3366 3988 \nQ 3128 4100 2886 4159 \nQ 2644 4219 2406 4219 \nQ 1781 4219 1451 3797 \nQ 1122 3375 1075 2522 \nQ 1259 2794 1537 2939 \nQ 1816 3084 2150 3084 \nQ 2853 3084 3261 2657 \nQ 3669 2231 3669 1497 \nQ 3669 778 3244 343 \nQ 2819 -91 2113 -91 \nQ 1303 -91 875 529 \nQ 447 1150 447 2328 \nQ 447 3434 972 4092 \nQ 1497 4750 2381 4750 \nQ 2619 4750 2861 4703 \nQ 3103 4656 3366 4563 \nz\n\" id=\"DejaVuSans-36\" transform=\"scale(0.015625)\"/>\n       </defs>\n       <use xlink:href=\"#DejaVuSans-36\"/>\n       <use x=\"63.623047\" xlink:href=\"#DejaVuSans-30\"/>\n       <use x=\"127.246094\" xlink:href=\"#DejaVuSans-30\"/>\n      </g>\n     </g>\n    </g>\n    <g id=\"ytick_8\">\n     <g id=\"line2d_23\">\n      <path clip-path=\"url(#pffd295a4fe)\" d=\"M 44.25025 30.811565 \nL 490.65025 30.811565 \n\" style=\"fill:none;stroke:#303030;stroke-linecap:square;stroke-width:1.4;\"/>\n     </g>\n     <g id=\"line2d_24\">\n      <g>\n       <use style=\"fill:#bbbbbb;stroke:#bbbbbb;\" x=\"44.25025\" xlink:href=\"#m673cd73034\" y=\"30.811565\"/>\n      </g>\n     </g>\n     <g id=\"text_12\">\n      <!-- 700 -->\n      <g style=\"fill:#bbbbbb;\" transform=\"translate(7.2 35.59858)scale(0.126 -0.126)\">\n       <defs>\n        <path d=\"M 525 4666 \nL 3525 4666 \nL 3525 4397 \nL 1831 0 \nL 1172 0 \nL 2766 4134 \nL 525 4134 \nL 525 4666 \nz\n\" id=\"DejaVuSans-37\" transform=\"scale(0.015625)\"/>\n       </defs>\n       <use xlink:href=\"#DejaVuSans-37\"/>\n       <use x=\"63.623047\" xlink:href=\"#DejaVuSans-30\"/>\n       <use x=\"127.246094\" xlink:href=\"#DejaVuSans-30\"/>\n      </g>\n     </g>\n    </g>\n   </g>\n   <g id=\"line2d_25\">\n    <path clip-path=\"url(#pffd295a4fe)\" d=\"M 74.94025 346.571608 \nL 125.16025 346.571608 \nL 125.16025 317.424527 \nL 74.94025 317.424527 \nL 74.94025 346.571608 \n\" style=\"fill:none;stroke:#3572c6;stroke-linecap:square;\"/>\n   </g>\n   <g id=\"line2d_26\">\n    <path clip-path=\"url(#pffd295a4fe)\" d=\"M 100.05025 346.571608 \nL 100.05025 366.002996 \n\" style=\"fill:none;stroke:#3572c6;stroke-linecap:square;\"/>\n   </g>\n   <g id=\"line2d_27\">\n    <path clip-path=\"url(#pffd295a4fe)\" d=\"M 100.05025 317.424527 \nL 100.05025 280.504892 \n\" style=\"fill:none;stroke:#3572c6;stroke-linecap:square;\"/>\n   </g>\n   <g id=\"line2d_28\">\n    <path clip-path=\"url(#pffd295a4fe)\" d=\"M 87.49525 366.002996 \nL 112.60525 366.002996 \n\" style=\"fill:none;stroke:#222222;stroke-linecap:square;\"/>\n   </g>\n   <g id=\"line2d_29\">\n    <path clip-path=\"url(#pffd295a4fe)\" d=\"M 87.49525 280.504892 \nL 112.60525 280.504892 \n\" style=\"fill:none;stroke:#222222;stroke-linecap:square;\"/>\n   </g>\n   <g id=\"line2d_30\"/>\n   <g id=\"line2d_31\">\n    <path clip-path=\"url(#pffd295a4fe)\" d=\"M 186.54025 102.221913 \nL 236.76025 102.221913 \nL 236.76025 54.615014 \nL 186.54025 54.615014 \nL 186.54025 102.221913 \n\" style=\"fill:none;stroke:#3572c6;stroke-linecap:square;\"/>\n   </g>\n   <g id=\"line2d_32\">\n    <path clip-path=\"url(#pffd295a4fe)\" d=\"M 211.65025 102.221913 \nL 211.65025 149.343027 \n\" style=\"fill:none;stroke:#3572c6;stroke-linecap:square;\"/>\n   </g>\n   <g id=\"line2d_33\">\n    <path clip-path=\"url(#pffd295a4fe)\" d=\"M 211.65025 54.615014 \nL 211.65025 24.496364 \n\" style=\"fill:none;stroke:#3572c6;stroke-linecap:square;\"/>\n   </g>\n   <g id=\"line2d_34\">\n    <path clip-path=\"url(#pffd295a4fe)\" d=\"M 199.09525 149.343027 \nL 224.20525 149.343027 \n\" style=\"fill:none;stroke:#222222;stroke-linecap:square;\"/>\n   </g>\n   <g id=\"line2d_35\">\n    <path clip-path=\"url(#pffd295a4fe)\" d=\"M 199.09525 24.496364 \nL 224.20525 24.496364 \n\" style=\"fill:none;stroke:#222222;stroke-linecap:square;\"/>\n   </g>\n   <g id=\"line2d_36\"/>\n   <g id=\"line2d_37\">\n    <path clip-path=\"url(#pffd295a4fe)\" d=\"M 298.14025 354.344163 \nL 348.36025 354.344163 \nL 348.36025 333.455422 \nL 298.14025 333.455422 \nL 298.14025 354.344163 \n\" style=\"fill:none;stroke:#3572c6;stroke-linecap:square;\"/>\n   </g>\n   <g id=\"line2d_38\">\n    <path clip-path=\"url(#pffd295a4fe)\" d=\"M 323.25025 354.344163 \nL 323.25025 359.687795 \n\" style=\"fill:none;stroke:#3572c6;stroke-linecap:square;\"/>\n   </g>\n   <g id=\"line2d_39\">\n    <path clip-path=\"url(#pffd295a4fe)\" d=\"M 323.25025 333.455422 \nL 323.25025 325.682867 \n\" style=\"fill:none;stroke:#3572c6;stroke-linecap:square;\"/>\n   </g>\n   <g id=\"line2d_40\">\n    <path clip-path=\"url(#pffd295a4fe)\" d=\"M 310.69525 359.687795 \nL 335.80525 359.687795 \n\" style=\"fill:none;stroke:#222222;stroke-linecap:square;\"/>\n   </g>\n   <g id=\"line2d_41\">\n    <path clip-path=\"url(#pffd295a4fe)\" d=\"M 310.69525 325.682867 \nL 335.80525 325.682867 \n\" style=\"fill:none;stroke:#222222;stroke-linecap:square;\"/>\n   </g>\n   <g id=\"line2d_42\"/>\n   <g id=\"line2d_43\">\n    <path clip-path=\"url(#pffd295a4fe)\" d=\"M 409.74025 369.160596 \nL 459.96025 369.160596 \nL 459.96025 368.72339 \nL 409.74025 368.72339 \nL 409.74025 369.160596 \n\" style=\"fill:none;stroke:#3572c6;stroke-linecap:square;\"/>\n   </g>\n   <g id=\"line2d_44\">\n    <path clip-path=\"url(#pffd295a4fe)\" d=\"M 434.85025 369.160596 \nL 434.85025 369.694959 \n\" style=\"fill:none;stroke:#3572c6;stroke-linecap:square;\"/>\n   </g>\n   <g id=\"line2d_45\">\n    <path clip-path=\"url(#pffd295a4fe)\" d=\"M 434.85025 368.72339 \nL 434.85025 368.140448 \n\" style=\"fill:none;stroke:#3572c6;stroke-linecap:square;\"/>\n   </g>\n   <g id=\"line2d_46\">\n    <path clip-path=\"url(#pffd295a4fe)\" d=\"M 422.29525 369.694959 \nL 447.40525 369.694959 \n\" style=\"fill:none;stroke:#222222;stroke-linecap:square;\"/>\n   </g>\n   <g id=\"line2d_47\">\n    <path clip-path=\"url(#pffd295a4fe)\" d=\"M 422.29525 368.140448 \nL 447.40525 368.140448 \n\" style=\"fill:none;stroke:#222222;stroke-linecap:square;\"/>\n   </g>\n   <g id=\"line2d_48\">\n    <defs>\n     <path d=\"M 0 3 \nC 0.795609 3 1.55874 2.683901 2.12132 2.12132 \nC 2.683901 1.55874 3 0.795609 3 0 \nC 3 -0.795609 2.683901 -1.55874 2.12132 -2.12132 \nC 1.55874 -2.683901 0.795609 -3 0 -3 \nC -0.795609 -3 -1.55874 -2.683901 -2.12132 -2.12132 \nC -2.683901 -1.55874 -3 -0.795609 -3 0 \nC -3 0.795609 -2.683901 1.55874 -2.12132 2.12132 \nC -1.55874 2.683901 -0.795609 3 0 3 \nz\n\" id=\"md475d7e1b5\" style=\"stroke:#000000;\"/>\n    </defs>\n    <g clip-path=\"url(#pffd295a4fe)\">\n     <use style=\"fill-opacity:0;stroke:#000000;\" x=\"434.85025\" xlink:href=\"#md475d7e1b5\" y=\"369.889273\"/>\n     <use style=\"fill-opacity:0;stroke:#000000;\" x=\"434.85025\" xlink:href=\"#md475d7e1b5\" y=\"370.423636\"/>\n     <use style=\"fill-opacity:0;stroke:#000000;\" x=\"434.85025\" xlink:href=\"#md475d7e1b5\" y=\"369.889273\"/>\n     <use style=\"fill-opacity:0;stroke:#000000;\" x=\"434.85025\" xlink:href=\"#md475d7e1b5\" y=\"369.937852\"/>\n     <use style=\"fill-opacity:0;stroke:#000000;\" x=\"434.85025\" xlink:href=\"#md475d7e1b5\" y=\"367.606085\"/>\n     <use style=\"fill-opacity:0;stroke:#000000;\" x=\"434.85025\" xlink:href=\"#md475d7e1b5\" y=\"367.46035\"/>\n     <use style=\"fill-opacity:0;stroke:#000000;\" x=\"434.85025\" xlink:href=\"#md475d7e1b5\" y=\"367.46035\"/>\n     <use style=\"fill-opacity:0;stroke:#000000;\" x=\"434.85025\" xlink:href=\"#md475d7e1b5\" y=\"367.800399\"/>\n     <use style=\"fill-opacity:0;stroke:#000000;\" x=\"434.85025\" xlink:href=\"#md475d7e1b5\" y=\"367.46035\"/>\n    </g>\n   </g>\n   <g id=\"line2d_49\">\n    <path clip-path=\"url(#pffd295a4fe)\" d=\"M 74.94025 333.455422 \nL 125.16025 333.455422 \n\" style=\"fill:none;stroke:#c44e52;stroke-linecap:square;\"/>\n   </g>\n   <g id=\"line2d_50\">\n    <path clip-path=\"url(#pffd295a4fe)\" d=\"M 186.54025 81.333172 \nL 236.76025 81.333172 \n\" style=\"fill:none;stroke:#c44e52;stroke-linecap:square;\"/>\n   </g>\n   <g id=\"line2d_51\">\n    <path clip-path=\"url(#pffd295a4fe)\" d=\"M 298.14025 343.6569 \nL 348.36025 343.6569 \n\" style=\"fill:none;stroke:#c44e52;stroke-linecap:square;\"/>\n   </g>\n   <g id=\"line2d_52\">\n    <path clip-path=\"url(#pffd295a4fe)\" d=\"M 409.74025 368.966282 \nL 459.96025 368.966282 \n\" style=\"fill:none;stroke:#c44e52;stroke-linecap:square;\"/>\n   </g>\n   <g id=\"patch_3\">\n    <path d=\"M 44.25025 387.72 \nL 44.25025 7.2 \n\" style=\"fill:none;stroke:#888888;stroke-linecap:square;stroke-linejoin:miter;stroke-width:1.4;\"/>\n   </g>\n   <g id=\"patch_4\">\n    <path d=\"M 490.65025 387.72 \nL 490.65025 7.2 \n\" style=\"fill:none;stroke:#888888;stroke-linecap:square;stroke-linejoin:miter;stroke-width:1.4;\"/>\n   </g>\n   <g id=\"patch_5\">\n    <path d=\"M 44.25025 387.72 \nL 490.65025 387.72 \n\" style=\"fill:none;stroke:#888888;stroke-linecap:square;stroke-linejoin:miter;stroke-width:1.4;\"/>\n   </g>\n   <g id=\"patch_6\">\n    <path d=\"M 44.25025 7.2 \nL 490.65025 7.2 \n\" style=\"fill:none;stroke:#888888;stroke-linecap:square;stroke-linejoin:miter;stroke-width:1.4;\"/>\n   </g>\n  </g>\n </g>\n <defs>\n  <clipPath id=\"pffd295a4fe\">\n   <rect height=\"380.52\" width=\"446.4\" x=\"44.25025\" y=\"7.2\"/>\n  </clipPath>\n </defs>\n</svg>\n",
      "image/png": "[encoded data removed]"
     },
     "metadata": {}
    },
    {
     "output_type": "execute_result",
     "data": {
      "text/plain": [
       "    center_id  city_code  region_code  center_type  op_area\n",
       "0       False      False        False        False    False\n",
       "1       False      False        False        False    False\n",
       "2       False      False        False        False    False\n",
       "3       False      False        False        False    False\n",
       "4       False      False        False        False    False\n",
       "..        ...        ...          ...          ...      ...\n",
       "72      False      False        False        False    False\n",
       "73      False      False        False        False    False\n",
       "74      False      False        False        False    False\n",
       "75      False      False        False        False    False\n",
       "76      False      False        False        False    False\n",
       "\n",
       "[77 rows x 5 columns]"
      ],
      "text/html": "<div>\n<style scoped>\n    .dataframe tbody tr th:only-of-type {\n        vertical-align: middle;\n    }\n\n    .dataframe tbody tr th {\n        vertical-align: top;\n    }\n\n    .dataframe thead th {\n        text-align: right;\n    }\n</style>\n<table border=\"1\" class=\"dataframe\">\n  <thead>\n    <tr style=\"text-align: right;\">\n      <th></th>\n      <th>center_id</th>\n      <th>city_code</th>\n      <th>region_code</th>\n      <th>center_type</th>\n      <th>op_area</th>\n    </tr>\n  </thead>\n  <tbody>\n    <tr>\n      <th>0</th>\n      <td>False</td>\n      <td>False</td>\n      <td>False</td>\n      <td>False</td>\n      <td>False</td>\n    </tr>\n    <tr>\n      <th>1</th>\n      <td>False</td>\n      <td>False</td>\n      <td>False</td>\n      <td>False</td>\n      <td>False</td>\n    </tr>\n    <tr>\n      <th>2</th>\n      <td>False</td>\n      <td>False</td>\n      <td>False</td>\n      <td>False</td>\n      <td>False</td>\n    </tr>\n    <tr>\n      <th>3</th>\n      <td>False</td>\n      <td>False</td>\n      <td>False</td>\n      <td>False</td>\n      <td>False</td>\n    </tr>\n    <tr>\n      <th>4</th>\n      <td>False</td>\n      <td>False</td>\n      <td>False</td>\n      <td>False</td>\n      <td>False</td>\n    </tr>\n    <tr>\n      <th>...</th>\n      <td>...</td>\n      <td>...</td>\n      <td>...</td>\n      <td>...</td>\n      <td>...</td>\n    </tr>\n    <tr>\n      <th>72</th>\n      <td>False</td>\n      <td>False</td>\n      <td>False</td>\n      <td>False</td>\n      <td>False</td>\n    </tr>\n    <tr>\n      <th>73</th>\n      <td>False</td>\n      <td>False</td>\n      <td>False</td>\n      <td>False</td>\n      <td>False</td>\n    </tr>\n    <tr>\n      <th>74</th>\n      <td>False</td>\n      <td>False</td>\n      <td>False</td>\n      <td>False</td>\n      <td>False</td>\n    </tr>\n    <tr>\n      <th>75</th>\n      <td>False</td>\n      <td>False</td>\n      <td>False</td>\n      <td>False</td>\n      <td>False</td>\n    </tr>\n    <tr>\n      <th>76</th>\n      <td>False</td>\n      <td>False</td>\n      <td>False</td>\n      <td>False</td>\n      <td>False</td>\n    </tr>\n  </tbody>\n</table>\n<p>77 rows × 5 columns</p>\n</div>"
     },
     "metadata": {},
     "execution_count": 6
    }
   ],
   "source": [
    "fulfilment_center_info.boxplot()\n",
    "plt.show()\n",
    "fulfilment_center_info.isnull()     "
   ]
  },
  {
   "source": [
    "# Label Encoding\n",
    "\n",
    "## The column \"CENTER\" has string object as its datatype. WE can do to things:\n",
    "- Do one-hot encoding and make every parameter as a separate column in the dataset\n",
    "- Do label encoding and make a single column with every parameter having unique value\n",
    "\n",
    "## To make the input dimentions as minimal as possible, better to go with label encoding."
   ],
   "cell_type": "markdown",
   "metadata": {}
  },
  {
   "cell_type": "code",
   "execution_count": 3,
   "metadata": {},
   "outputs": [],
   "source": [
    "from sklearn.preprocessing import LabelEncoder\n",
    "le=LabelEncoder()\n",
    "fulfilment_center_info['center_type']=le.fit_transform(fulfilment_center_info[\"center_type\"])\n"
   ]
  },
  {
   "cell_type": "code",
   "execution_count": 4,
   "metadata": {},
   "outputs": [
    {
     "output_type": "execute_result",
     "data": {
      "text/plain": [
       "    center_id  city_code  region_code  center_type  op_area\n",
       "0          11        679           56            0      3.7\n",
       "1          13        590           56            1      6.7\n",
       "2         124        590           56            2      4.0\n",
       "3          66        648           34            0      4.1\n",
       "4          94        632           34            2      3.6\n",
       "..        ...        ...          ...          ...      ...\n",
       "72         53        590           56            0      3.8\n",
       "73         30        604           56            0      3.5\n",
       "74         76        614           85            0      3.0\n",
       "75         68        676           34            1      4.1\n",
       "76         51        638           56            0      7.0\n",
       "\n",
       "[77 rows x 5 columns]"
      ],
      "text/html": "<div>\n<style scoped>\n    .dataframe tbody tr th:only-of-type {\n        vertical-align: middle;\n    }\n\n    .dataframe tbody tr th {\n        vertical-align: top;\n    }\n\n    .dataframe thead th {\n        text-align: right;\n    }\n</style>\n<table border=\"1\" class=\"dataframe\">\n  <thead>\n    <tr style=\"text-align: right;\">\n      <th></th>\n      <th>center_id</th>\n      <th>city_code</th>\n      <th>region_code</th>\n      <th>center_type</th>\n      <th>op_area</th>\n    </tr>\n  </thead>\n  <tbody>\n    <tr>\n      <th>0</th>\n      <td>11</td>\n      <td>679</td>\n      <td>56</td>\n      <td>0</td>\n      <td>3.7</td>\n    </tr>\n    <tr>\n      <th>1</th>\n      <td>13</td>\n      <td>590</td>\n      <td>56</td>\n      <td>1</td>\n      <td>6.7</td>\n    </tr>\n    <tr>\n      <th>2</th>\n      <td>124</td>\n      <td>590</td>\n      <td>56</td>\n      <td>2</td>\n      <td>4.0</td>\n    </tr>\n    <tr>\n      <th>3</th>\n      <td>66</td>\n      <td>648</td>\n      <td>34</td>\n      <td>0</td>\n      <td>4.1</td>\n    </tr>\n    <tr>\n      <th>4</th>\n      <td>94</td>\n      <td>632</td>\n      <td>34</td>\n      <td>2</td>\n      <td>3.6</td>\n    </tr>\n    <tr>\n      <th>...</th>\n      <td>...</td>\n      <td>...</td>\n      <td>...</td>\n      <td>...</td>\n      <td>...</td>\n    </tr>\n    <tr>\n      <th>72</th>\n      <td>53</td>\n      <td>590</td>\n      <td>56</td>\n      <td>0</td>\n      <td>3.8</td>\n    </tr>\n    <tr>\n      <th>73</th>\n      <td>30</td>\n      <td>604</td>\n      <td>56</td>\n      <td>0</td>\n      <td>3.5</td>\n    </tr>\n    <tr>\n      <th>74</th>\n      <td>76</td>\n      <td>614</td>\n      <td>85</td>\n      <td>0</td>\n      <td>3.0</td>\n    </tr>\n    <tr>\n      <th>75</th>\n      <td>68</td>\n      <td>676</td>\n      <td>34</td>\n      <td>1</td>\n      <td>4.1</td>\n    </tr>\n    <tr>\n      <th>76</th>\n      <td>51</td>\n      <td>638</td>\n      <td>56</td>\n      <td>0</td>\n      <td>7.0</td>\n    </tr>\n  </tbody>\n</table>\n<p>77 rows × 5 columns</p>\n</div>"
     },
     "metadata": {},
     "execution_count": 4
    }
   ],
   "source": [
    "fulfilment_center_info"
   ]
  },
  {
   "cell_type": "code",
   "execution_count": 5,
   "metadata": {},
   "outputs": [
    {
     "output_type": "execute_result",
     "data": {
      "text/plain": [
       "['TYPE_A', 'TYPE_B', 'TYPE_C']"
      ]
     },
     "metadata": {},
     "execution_count": 5
    }
   ],
   "source": [
    "centers=fulfilment_center_info['center_type'].unique()\n",
    "centers.sort()\n",
    "centers_list=list(le.inverse_transform(centers))\n",
    "centers_list\n"
   ]
  },
  {
   "source": [
    "# Model Selection\n",
    "## Since we are doing muilti-class numerical prediction using single class as an attribute, the following Machine Learning Algorithms would help:\n",
    " - ### Decision Tree Regressor\n",
    " - ### Support Vector Regressor\n",
    " - ### K - Nearest Neighbours\n",
    " - ### Naive Bayes\n",
    "\n",
    "### Seeing the size of dataset, I think * DecisionTreeRegressor* would do the job."
   ],
   "cell_type": "markdown",
   "metadata": {}
  },
  {
   "cell_type": "code",
   "execution_count": 6,
   "metadata": {},
   "outputs": [],
   "source": [
    "y_train=fulfilment_center_info[\"center_id\"]\n",
    "fulfilment_center_info.drop(\"center_id\",inplace=True,axis=1)\n"
   ]
  },
  {
   "cell_type": "code",
   "execution_count": 7,
   "metadata": {},
   "outputs": [
    {
     "output_type": "stream",
     "name": "stdout",
     "text": [
      "[[ 11]\n [ 13]\n [124]\n [ 66]\n [ 94]\n [ 64]\n [129]\n [139]\n [ 88]\n [143]\n [101]\n [ 86]\n [ 32]\n [149]\n [152]\n [ 92]\n [ 27]\n [ 14]\n [ 26]\n [104]\n [ 77]\n [ 23]\n [ 97]\n [146]\n [113]\n [145]\n [ 80]\n [ 55]\n [186]\n [ 99]\n [ 91]\n [ 20]\n [106]\n [ 81]\n [ 73]\n [ 29]\n [ 43]\n [102]\n [ 61]\n [ 50]\n [ 83]\n [ 57]\n [126]\n [177]\n [ 67]\n [174]\n [ 59]\n [ 58]\n [ 65]\n [ 39]\n [132]\n [ 89]\n [162]\n [ 75]\n [ 72]\n [ 41]\n [ 10]\n [110]\n [ 52]\n [ 93]\n [ 74]\n [ 34]\n [137]\n [153]\n [ 24]\n [109]\n [108]\n [ 36]\n [157]\n [ 17]\n [161]\n [ 42]\n [ 53]\n [ 30]\n [ 76]\n [ 68]\n [ 51]]\n"
     ]
    },
    {
     "output_type": "execute_result",
     "data": {
      "text/plain": [
       "DecisionTreeRegressor()"
      ]
     },
     "metadata": {},
     "execution_count": 7
    }
   ],
   "source": [
    "x_train= fulfilment_center_info\n",
    "from sklearn.tree import DecisionTreeRegressor\n",
    "model=DecisionTreeRegressor()\n",
    "y_train=np.array(y_train).reshape(-1,1)\n",
    "print(y_train)\n",
    "x_train=np.array(x_train)\n",
    "model.fit(y_train,x_train)"
   ]
  },
  {
   "cell_type": "code",
   "execution_count": 9,
   "metadata": {},
   "outputs": [
    {
     "output_type": "stream",
     "name": "stdout",
     "text": [
      "city_code : 590.0\nregion_code : 56.0\ncenter_type : ['TYPE_C']\nop_area : 4.0\n"
     ]
    }
   ],
   "source": [
    "prediction=model.predict([[120]])\n",
    "prediction=prediction.flatten()\n",
    "print(\"city_code : {}\".format(prediction[0]))\n",
    "print(\"region_code : {}\".format(prediction[1]))\n",
    "print(\"center_type : {}\".format(le.inverse_transform([int(prediction[2])])))\n",
    "print(\"op_area : {}\".format(prediction[3]))"
   ]
  },
  {
   "source": [
    "## Save Model\n",
    "### Save the model using *joblib."
   ],
   "cell_type": "markdown",
   "metadata": {}
  },
  {
   "cell_type": "code",
   "execution_count": null,
   "metadata": {},
   "outputs": [],
   "source": [
    "from joblib import dump\n",
    "dump(model,'fulfilment_center_predictor.pkl')\n"
   ]
  },
  {
   "cell_type": "code",
   "execution_count": null,
   "metadata": {},
   "outputs": [],
   "source": []
  }
 ]
}